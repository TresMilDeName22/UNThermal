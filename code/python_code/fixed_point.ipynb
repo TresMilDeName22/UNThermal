{
 "cells": [
  {
   "cell_type": "markdown",
   "id": "c9422e16-5068-4ebe-b498-e631da989eac",
   "metadata": {
    "editable": true,
    "slideshow": {
     "slide_type": ""
    },
    "tags": []
   },
   "source": [
    "# Método de punto fijo para el reto\n",
    "\n",
    "Partiendo de \n",
    "\n",
    "\n",
    "$$A = B(e^{-T_1/\\tau_2}-e^{-T_1/\\tau_1})\\,\\, (6)$$ \n",
    "\n",
    "Y de que \n",
    "\n",
    "$$\\frac{e^{-T_1/\\tau_2}} {e^{-T_1/\\tau_1}}=\\frac{\\tau_2}{\\tau_1}$$\n",
    "\n",
    "Definimos la relación entre las dos constantes de tiempo $a$ como:\n",
    "\n",
    "\n",
    "$$a =\\frac{\\tau_2}{\\tau_1} =\\frac{e^{-T_1/\\tau_2}} {e^{-T_1/\\tau_1}}  >1 \\,\\,\\,\\, (1)$$\n",
    "\n",
    "Dividiendo (6) por $e^{-T_1/\\tau_1}$, obtenemos:\n",
    "\n",
    "$$B=\\dfrac{A}{(a-1)e^{-T_1/\\tau_1}}\\,\\,\\,\\,(1)$$\n",
    "\n",
    "\n",
    "Tenemos también la expresión:\n",
    "\n",
    "\n",
    "$$B = \\frac{\\alpha\\, A}{(e^{-T_2/\\tau_2}-e^{-T_2/\\tau_1})}\\,\\,\\,\\,(2)$$\n",
    "\n",
    "Igualando (2) y (3), con alguna algebra obtenemos\n",
    "\n",
    "$$\\tau_1= \\dfrac{-T_1}{\\ln \\left( \\frac{e^{-T_2/(a\\,\\tau_1)}-e^{-T_2/\\tau_1}}{\\alpha\\, (a-1)} \\right)}$$\n",
    "\n",
    "Adicionalmente, de la ecuación (1)\n",
    "\n",
    "$$\\tau_1= \\frac{(a-1)\\,T_1}{a\\,\\ln a}$$\n",
    "\n",
    "\n",
    "Con esto ya tenemos la solución por el método de punto fijo\n"
   ]
  },
  {
   "cell_type": "code",
   "execution_count": null,
   "id": "2c82ef12",
   "metadata": {},
   "outputs": [
    {
     "name": "stdout",
     "output_type": "stream",
     "text": [
      "10.0 0.0003908650337129266 0.003908650337129266\n"
     ]
    }
   ],
   "source": [
    "import numpy as np\n",
    "\n",
    "# parametros de entrada\n",
    "T1= 1e-3\n",
    "T2= 10e-3\n",
    "A = 1\n",
    "alfa = 0.05\n",
    "\n",
    "# valores iniciales\n",
    "a = T2/T1 # valor inicial de a\n",
    "tau1 = (a-1)*T1/(a*np.log(a))\n",
    "\n",
    "a_ant =0\n",
    "while abs(a-a_ant)<= 1e-5:\n",
    "    a = np.exp(T1/tau1 - T1/(a*tau1))   \n",
    "    tau1 = -T1/(np.log((np.exp(-T2/(a*tau1)) - np.exp(-T2/tau1))/(alfa*(a-1))))         \n",
    "    \n",
    "\n",
    "\n",
    "tau2 = a*tau1\n",
    "print(a, tau1, tau2)\n",
    "\n",
    "\n",
    "\n"
   ]
  }
 ],
 "metadata": {
  "kernelspec": {
   "display_name": "venv",
   "language": "python",
   "name": "python3"
  },
  "language_info": {
   "codemirror_mode": {
    "name": "ipython",
    "version": 3
   },
   "file_extension": ".py",
   "mimetype": "text/x-python",
   "name": "python",
   "nbconvert_exporter": "python",
   "pygments_lexer": "ipython3",
   "version": "3.12.6"
  },
  "widgets": {
   "application/vnd.jupyter.widget-state+json": {
    "state": {},
    "version_major": 2,
    "version_minor": 0
   }
  }
 },
 "nbformat": 4,
 "nbformat_minor": 5
}
