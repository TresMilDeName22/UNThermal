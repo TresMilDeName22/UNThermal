{
 "cells": [
  {
   "cell_type": "markdown",
   "id": "3b961e38-1df0-478e-9e27-47d673262f3d",
   "metadata": {},
   "source": [
    "## 1. Configuración\n",
    "\n",
    "---"
   ]
  },
  {
   "cell_type": "markdown",
   "id": "51c5d6ab-6960-46b6-82c4-92d959f3ffd0",
   "metadata": {},
   "source": [
    "\n",
    "### Instalación de las librerias unthermal y unmotor\n",
    "\n",
    "Ejecute los siguientes comandos en la terminal (bash) de visual studio code para reinstalar las librerias del motor y del sistema térmico. __Asegúrese de instalar  [Git](https://git-scm.com/download/win/ \"Git\").__\n",
    "\n",
    "`pip install -I git+https://github.com/nebisman/UNThermal.git@main#subdirectory=code/python_code`\n",
    "\n",
    "`pip install -I git+https://github.com/nebisman/UNDCMotor.git@main#subdirectory=code/python_code`\n",
    "\n",
    "\n",
    "Si la instalación reporta algún error de permisos del sistema operativo, use esta opción:\n",
    "\n",
    "\n",
    "`pip install -I  --user git+https://github.com/nebisman/UNThermal.git@main#subdirectory=code/python_code`\n",
    "\n",
    "`pip install -I --user git+https://github.com/nebisman/UNDCMotor.git@main#subdirectory=code/python_code`\n"
   ]
  },
  {
   "cell_type": "markdown",
   "id": "3af7a528-4000-4979-9288-154c34036842",
   "metadata": {
    "editable": true,
    "slideshow": {
     "slide_type": ""
    },
    "tags": []
   },
   "source": [
    "### Importación de comandos de la libreria unthermal y unmotor\n",
    "\n",
    "A continuación importamos los comandos básicos que usaremos de la libreria `unthermal` y `unmotor` y la libreria `Matplotlib` para las figuras. "
   ]
  },
  {
   "cell_type": "code",
   "execution_count": null,
   "id": "initial_id",
   "metadata": {
    "ExecuteTime": {
     "end_time": "2024-10-18T00:15:28.976393Z",
     "start_time": "2024-10-18T00:15:27.343292Z"
    },
    "editable": true,
    "scrolled": true,
    "slideshow": {
     "slide_type": ""
    },
    "tags": []
   },
   "outputs": [],
   "source": [
    "%matplotlib widget\n",
    "import matplotlib.pyplot as plt\n",
    "import numpy as np\n",
    "import unthermal as temp\n",
    "import unmotor as motor"
   ]
  },
  {
   "cell_type": "markdown",
   "id": "745ba6b9",
   "metadata": {},
   "source": [
    "\n",
    "### Ayuda de las funciones del software\n",
    "\n",
    "Aqui está  [la ayuda de las funciones de software](https://nebisman.github.io/UNThermal/index.html)"
   ]
  },
  {
   "cell_type": "markdown",
   "id": "be12da5c-147a-46e1-ae29-afe3673bb21b",
   "metadata": {},
   "source": [
    "\n",
    "### Definición de los sistemas en el IoT\n",
    "\n",
    "Lo primero que necesitamos es definir tanto el sistema térmico como el motor como sistemas  IoT."
   ]
  },
  {
   "cell_type": "code",
   "execution_count": null,
   "id": "aca6686d-6399-4c3a-b8eb-2b78ca05442b",
   "metadata": {
    "ExecuteTime": {
     "end_time": "2024-10-20T20:36:13.420801Z",
     "start_time": "2024-10-20T20:36:13.414544Z"
    },
    "editable": true,
    "slideshow": {
     "slide_type": ""
    },
    "tags": []
   },
   "outputs": [],
   "source": [
    "mi_termico = temp.ThermalSystemIoT(plant_number = \"PC-T-XX\" , broker_address = \"192.168.1.100\", port=1883)\n",
    "mi_motor = motor.MotorSystemIoT(plant_number = \"PC-M-XX\" , broker_address = \"192.168.1.100\", port=1883) "
   ]
  },
  {
   "cell_type": "markdown",
   "id": "64ba4037",
   "metadata": {},
   "source": [
    "## Sintonía por métodos algebraicos de un controlador PI para el motor\n",
    "\n",
    "___\n",
    "\n",
    "### Obtención de un modelo refinado con una onda PRBS\n",
    "\n",
    "\n",
    "Una forma de experimento más refinado para obtener el modelo lineal de un sistema en torno de un punto de operación es mediante el uso de **secuencias binarias pseudoaleatorias**. Este tipo de secuencias tienen una mayor riqueza espectral que los simples escalones y, por consiguiente, permiten obtener mejores modelos lineales de un sistema en torno de un punto de operación.\n",
    "\n",
    "El Motor DC puede ser descrito aproximadamente por  [la siguiente función de transferencia de primer orden](https://github.com/nebisman/UNDCMotor/blob/main/docs/modelo_matematico_unmotor.pdf):\n",
    "\n",
    "$$G_1(s)= \\frac{\\alpha}{\\tau\\, s + 1}.$$\n",
    "\n",
    "La función `get_models_prbs(system, yop = desired_speed)` (*get models by using a PRBS input*) permite obtener la respuesta a una entrada de tipo PRBS y encuentra los modelos de primer y segundo orden que mejor ajustan los datos en el punto de operación `yop`."
   ]
  },
  {
   "cell_type": "markdown",
   "id": "9b886ff1",
   "metadata": {},
   "source": [
    "#### Experimento con PRBS\n",
    "\n",
    "+ Encuentre los modelos del motor DC usando la función `get_models_prbs()` para la velocidad de operación de $y_{OP}=360^o/s$.  "
   ]
  },
  {
   "cell_type": "code",
   "execution_count": null,
   "id": "230bb94f",
   "metadata": {},
   "outputs": [],
   "source": [
    "motor.get_models_prbs(mi_motor, yop=360)"
   ]
  },
  {
   "cell_type": "markdown",
   "id": "b96f2d2b",
   "metadata": {},
   "source": [
    "### Sintonía algebraica de PI para el motor\n",
    "\n",
    "Antes de comenzar esta guia, revise cuidadosamente y comprenda el [material sobre sintonía algebraica de un  PI para un sistema de primer orden de este documento.](https://github.com/nebisman/UNThermal/blob/main/docs/metodo_sintonia_algebraico_PI_PID.pdf).\n",
    "\n",
    "Una vez realizada esta revisión realice el siguiente trabajo experimental.\n",
    "\n",
    "\n",
    "#### Experimento de sintonización de controladores\n",
    "\n",
    "1. Use el método de sintonía algebraica descrito en el documento para obtener 4 controladores PI de la velocidad angular del motor,  de acuerdo con la siguiente tabla de especificaciones:\n",
    "\n",
    "| Controlador | $t_{ee}$ (tiempo de establecimiento) | $t_r$ (tiempo de subida) | $SP$ (sobrepico) |\n",
    "|-------------|-----------|-------|------|\n",
    "| PI-VEL-1        | $1.5 s$     | $0.8 s$ | $10\\%$  |\n",
    "| PI-VEL-2        | $1.5 s$     | $0.8 s$ | $5\\%$  |\n",
    "| PI-VEL-3        | $1.5 s$     | $0.8 s$ | $0\\%$  |\n",
    "| PI-VEL-4        | $0.2 s$     | $0.1 s$ | $10\\%$  |\n",
    "\n",
    "\n",
    "\n",
    "\n",
    "\n",
    "#### Notas importantes:\n",
    "\n",
    "1. El modelo usado para estos diseños es el modelo de primer orden obtenido con la función `get_models_prbs(.)` en el punto de operación de $360^o$.\n",
    "\n",
    "2. Para el motor DC puede asumir que el tiempo de retraso no modelado es el tiempo de muestreo del controlador digital, esto es: \n",
    "\n",
    "$$T_{e}=0.02\\,s$$\n",
    "\n",
    "3. Se tiene también  la restricción de tensión que debemos (y podemos) aplicar al motor, dada por \n",
    "$$\n",
    "|u(t)| \\leq 5\\,V\n",
    "$$ \n",
    "\n",
    "4. Haga las iteraciones manualmente siguiendo el método, para ganar una comprensión intuitiva. Puede hacer los pasos 1-2 en una celda y en otra celda hacer los pasos 3-8, cambiando convenientemente los parámetros de diseño $\\omega_n$ y $\\zeta$. \n",
    "\n",
    "5. Use un cambio en la referencia de $0$ a $360^o/s$\n",
    "\n",
    "\n",
    "6. Para todos los experimentos use la función `set_pid()` parametrizada con `beta=0` (para un PI de dos GDL) y con `output=speed` para el control de velocidad, como en el siguiente ejemplo. Puede usar la función `draw_specifications` dada a continuación para revisar los requerimientos de diseño. No tiene que definirla sino una vez."
   ]
  },
  {
   "cell_type": "code",
   "execution_count": null,
   "id": "eb6bf578",
   "metadata": {},
   "outputs": [],
   "source": [
    "def draw_specifications(tee,tr, SP):\n",
    "    import mplcursors\n",
    "    fig=plt.gcf()\n",
    "    ay, au = fig.get_axes()\n",
    "    delta_r = r1 - r0\n",
    "\n",
    "    # tee specification\n",
    "    ay.axvline(tee+t0, color='#0080668F', linestyle='--', linewidth=1.25)\n",
    "    ay.text(t0 +tee + t1/50 , r0 + 0.1*delta_r, \"$t_{ee}=$\", fontsize=14, color='#008066FF')\n",
    "\n",
    "    # tr specification\n",
    "    ay.plot([t0, t0+ tr, t0+ tr], [r0 + 0.9*delta_r, r0 + 0.9*delta_r, r0 - 0.1*delta_r],  color='#917c6fff', linestyle='--',linewidth=1.25)\n",
    "    ay.text(t0 + tr + t1/50 , r0 + 0.1*delta_r, \"$t_{r}$\", fontsize=14,  color='#917c6fff')\n",
    "\n",
    "    # SP specification\n",
    "    ay.axhline(r1 + SP * delta_r /100, color='#d42affff', linestyle='--', linewidth=1.25)\n",
    "    ay.text(0.8* t0 , r1 + (SP/100 + 0.025 ) * delta_r, \"$SP$\", fontsize=14, color='#d42affff')\n",
    "\n",
    "    # pick in the graphic for returning values\n",
    "    mplcursors.cursor(ay.lines) \n",
    "    return ay, au\n",
    "\n",
    "\n",
    "# ejemplo de configuración del PI para el motor con control de  velocidad\n",
    "\n",
    "# especificaciones \n",
    "tee = 0.8\n",
    "tr =  0.25\n",
    "SP = 10\n",
    "\n",
    "# programacion del PI y respuesta al escalón \n",
    "t0 = 0.5\n",
    "t1 = 2\n",
    "r0 = 0\n",
    "r1 = 360\n",
    "motor.set_pid(mi_motor,kp=0.001, ki=0.02, kd=0, beta=0, output=\"speed\")\n",
    "t, r, y, u = motor.step_closed(mi_motor,r0=r0, r1=r1, t0=t0, t1=t1);\n",
    "draw_specifications(tee, tr, SP)"
   ]
  },
  {
   "cell_type": "markdown",
   "id": "befbed3c",
   "metadata": {},
   "source": [
    "#### Preguntas orientadoras\n",
    "\n",
    "+ Al final de esta parte, además de los gráficos experimentales, presente una tabla con la siguiente información. \n",
    "\n",
    "| Controlador | $\\zeta$ (final) | $\\omega_n$ (final) |  $t_{ee}$ (real) | $t_r$ (real) | $SP$ (real) |\n",
    "\n",
    "+ ¿Cual de estos controladores tiene la mejor respuesta a perturbaciones constantes, según la teoría y los resultados de la tabla?"
   ]
  },
  {
   "cell_type": "markdown",
   "id": "b8db5ef0",
   "metadata": {},
   "source": [
    "### Experimento: Respuesta a perfiles de velocidad (rampas de aceleración programadas)\n",
    "\n",
    "\n",
    "+ Obtenga el seguimiento a un perfil de velocidad usando la función  [`profile_closed()` (ver ayuda)](https://nebisman.github.io/UNThermal/profile_closed.html). para ***solo uno*** de los controladores PI diseñados para el motor controlado en velocidad.  . Use un perfil diseñado por usted y tenga en cuenta de generar rampas que el sistema alcance a seguir. \n",
    "\n",
    "\n",
    "+ Obtenga el seguimiento al perfil de velocidad con un controlador PI para el cual $\\omega_n=0.8\\omega_{max}$, siendo $\\omega_{max}$ la frecuencia natural $\\omega_n$ límite  a la cual sintonizó el el controlador. \n",
    "\n",
    "\n",
    "#### Preguntas orientadoras\n",
    "\n",
    "+ Grafique la respuesta al perfil de velocidad de los dos controladores en una misma figura. El sintonizado con $\\omega_{max}$ y el sintonizado con $\\omega_n=0.8\\omega_{max}$.\n",
    "\n",
    "\n",
    "+ Compare el desempeño de los dos controladores ante el perfil de velocidad. "
   ]
  },
  {
   "cell_type": "markdown",
   "id": "a9dd7de3",
   "metadata": {},
   "source": [
    "### Sintonía algebraica de PI para el sistema térmico\n",
    "\n",
    "Los principios generales son los mismos que usó en el motor DC  y que están en la guia [material sobre sintonía algebraica de un  PI para un sistema de primer orden.](https://github.com/nebisman/UNThermal/blob/main/docs/metodo_sintonia_algebraico_PI_PID.pdf).\n",
    "\n",
    "#### Experimentos\n",
    "\n",
    " Use el método de sintonía algebraica descrito en el documento para obtener 4 controladores PI del sistema térmico,  de acuerdo con la siguiente tabla de especificaciones:\n",
    "\n",
    "| Controlador | $t_{ee}$ (tiempo de establecimiento) | $t_r$ (tiempo de subida) | $SP$ (sobrepico) |\n",
    "|-------------|-----------|-------|------|\n",
    "| PI-TEMP-1        | $40\\, s$     | $20\\, s$ | $10\\%$  |\n",
    "| PI-TEMP-2        | $40\\, s$     | $20\\, s$ | $5\\%$  |\n",
    "| PI-TEMP-3        | $3\\, s$     | $1.5 s$ | $10\\%$  |\n",
    "| PI-TEMP-4        | $40\\, s$     | $0.8 s$ | $0\\%$  |\n",
    "\n",
    "\n",
    "\n",
    "\n",
    "\n",
    "#### Notas importantes:\n",
    "\n",
    "1. El modelo usado para estos diseños es el modelo de primer orden de la figura siguiente, el cual fue obtenido con la función `get_models_prbs(.)`\n",
    "\n",
    "<img src=\"https://github.com/nebisman/UNThermal/blob/main/code/python_code/notebooks_lab_2024_2/prbs_response.png?raw=true\" alt=\"Gráfica de resultados\" width=\"1000\"/>\n",
    "\n",
    "2. Note que para el sistema térmico, se puede asumir que el tiempo de retraso no modelado, es el tiempo de muestreo del controlador digital, esto es: \n",
    "\n",
    "$$T_{e}=0.8\\,s$$\n",
    "\n",
    "3. Se tiene también  la restricción de señal de control que podemos aplicar al sistema térmico es el porcentaje de potencia: \n",
    "$$\n",
    "|u(t)| \\leq 100\\% \n",
    "$$ \n",
    "\n",
    "4. Haga las iteraciones manualmente siguiendo el método, para ganar una comprensión intuitiva. Puede hacer los pasos 1-2 en una celda y en otra celda hacer los pasos 3-8, cambiando convenientemente los parámetros de diseño $\\omega_n$ y $\\zeta$. \n",
    "\n",
    "\n",
    "5. Use un cambio en la referencia de $60^o$ a $70^o$.  \n",
    "\n",
    "6. Para todos los experimentos use la función `set_pid()` parametrizada con `beta=0` (para un PI de dos GDL), como en el siguiente ejemplo y puede usar la función `draw_specifications` para revisar los requerimientos de diseño. \n"
   ]
  },
  {
   "cell_type": "code",
   "execution_count": null,
   "id": "82d6701a",
   "metadata": {},
   "outputs": [],
   "source": [
    "# ejemplo de configuración del PI para sistema térmico\n",
    "\n",
    "# especificaciones \n",
    "tee = 45\n",
    "tr =  15\n",
    "SP = 27 \n",
    "\n",
    "# programacion del PI y respuesta al escalon\n",
    "\n",
    "t0 = 70\n",
    "t1 = 70\n",
    "r0 = 60\n",
    "r1 = 70\n",
    "temp.set_pid(mi_termico, kp=4, ki=1, kd=0, beta=0)\n",
    "t, r, y, u = temp.step_closed(mi_termico, r0=r0, r1=r1, t0=t0, t1=t1);\n",
    "\n",
    "# funcion para dibujar los requerimientos de diseno\n",
    "draw_specifications(tee, tr, SP)"
   ]
  },
  {
   "cell_type": "markdown",
   "id": "9c6a630b",
   "metadata": {},
   "source": [
    "#### Preguntas orientadoras\n",
    "\n",
    "+ Al final de esta parte, además de los gráficos experimentales, presente una tabla con la siguiente información. \n",
    "\n",
    "| Controlador | $\\zeta$ (final) | $\\omega_n$ (final) |  $t_{ee}$ (real) | $t_r$ (real) | $SP$ (real) |\n",
    "\n",
    "+ ¿Cual de estos controladores tiene la mejor respuesta a perturbaciones, según la teoría y los resultados de la tabla anterior ?"
   ]
  },
  {
   "cell_type": "markdown",
   "id": "a347b174",
   "metadata": {},
   "source": [
    "### Experimento: Respuesta a perfiles de temperatura (rampas de temperatura)\n",
    "\n",
    "\n",
    "+ Obtenga el seguimiento al un perfil de temperatura usando la función `profile_closed()` para ***solo uno*** de los controladores PI diseñados para el sistema térmico. Use un perfil diseñado por usted y tenga en cuenta de generar rampas que el sistema alcance a seguir. \n",
    "\n",
    "\n",
    "+ Obtenga el seguimiento al perfil de velocidad con un controlador PI para el cual $\\omega_n=0.8\\omega_{max}$, siendo $\\omega_{max}$ la frecuencia natural $\\omega_n$ límite  a la cual sintonizó el el controlador. \n",
    "\n",
    "#### Preguntas orientadoras\n",
    "\n",
    "+ Grafique la respuesta al perfil de temperatura de los dos controladores. El sintonizado con $\\omega_{max}$ y el sintonizado con $\\omega_n=0.8\\omega_{max}$.\n",
    "\n",
    "+ Compare el desempeño de los dos controladores ante un perfil de temperatura. "
   ]
  },
  {
   "cell_type": "markdown",
   "id": "cefc3294",
   "metadata": {},
   "source": [
    "## Control PID del ángulo del motor DC\n",
    "\n",
    "___\n",
    "\n",
    "Revise cuidadosamente y comprenda el  [material sobre sintonía algebraica de un  PID para control de ángulo en un motor DC de este documento.](https://github.com/nebisman/UNThermal/blob/main/docs/metodo_sintonia_algebraico_PI_PID.pdf) Una vez realizada esta revisión, realice el siguiente trabajo experimental.\n",
    "\n",
    "\n",
    "### Experimentos\n",
    "\n",
    "\n",
    "1. Use la función `get_models_prbs(.)` para obtener un modelo en baja velocidad, en el punto de operación $y_{OP}=100^o/s$.\n",
    "\n",
    "2.  Use el método de sintonía algebraica descrito en el [documento](https://github.com/nebisman/UNThermal/blob/main/docs/metodo_sintonia_algebraico_PI_PID.pdf) para obtener 4 controladores PID para el control del ángulo $\\theta$ del motor,  de acuerdo con la siguiente tabla de especificaciones:\n",
    "\n",
    "| Controlador | $t_{ee}$ (tiempo de establecimiento) | $t_r$ (tiempo de subida) | $SP$ (sobrepico) |\n",
    "|-------------|-----------|-------|------|\n",
    "| PID-ANGULO-1        | $0.2 s$     | $0.1 s$ | $10\\%$  |\n",
    "| PID-ANGULO-2        | $1.5 s$     | $0.8 s$ | $10\\%$  |\n",
    "| PID-ANGULO-3        | $1.5 s$     | $0.8 s$ | $5\\%$  |\n",
    "| PID-ANGULO-4        | $1.5 s$     | $0.8 s$ | $0\\%$  |\n",
    "\n",
    "\n",
    "\n",
    "#### Notas importantes:\n",
    "\n",
    "1. El modelo usado para estos diseños es el modelo de primer orden ontenido con la función `get_models_prbs(.)` a una velocidad de $100^o/s$.\n",
    "\n",
    "2. Note que para el motor DC puede asumir que el tiempo de retraso no modelado, es el tiempo de muestreo del controlador digital, esto es: \n",
    "\n",
    "$$T_{e}=0.02\\,s$$\n",
    "\n",
    "3. Se tiene también  la restricción de tensión que debemos (y podemos) aplicar al motor, dada por \n",
    "$$\n",
    "|u(t)| \\leq 5\\,V\n",
    "$$ \n",
    "\n",
    "4. Haga las iteraciones manualmente siguiendo el método, para ganar una comprensión intuitiva. Puede hacer los pasos 1-2 en una celda y en otra celda hacer los pasos 3-9, cambiando convenientemente los parámetros de diseño $\\omega_n$ y $\\zeta$. \n",
    "\n",
    "5. Use un cambio en la referencia de $0$ a $100^o$.\n",
    "\n",
    "\n",
    "6. Para todos los experimentos use la función `set_pid()` parametrizada con `beta=0` (para un PI de dos GDL) y con `output=angle` para control de ángulo, como en el siguiente ejemplo. Puede usar la función `draw_specifications` para revisar los requerimientos de diseño. "
   ]
  },
  {
   "cell_type": "code",
   "execution_count": null,
   "id": "681406d6",
   "metadata": {},
   "outputs": [],
   "source": [
    "# ejemplo de configuración del PID para el motor con control de ángulo\n",
    "\n",
    "# especificaciones \n",
    "tee = 0.8\n",
    "tr =  0.25\n",
    "SP = 10\n",
    "\n",
    "# programacion del PID y respuesta al escalón \n",
    "t0 = 0.5\n",
    "t1 = 2\n",
    "r0 = 0\n",
    "r1 = 100\n",
    "\n",
    "motor.set_pid(mi_motor,kp=0.075, ki=1, kd=0.01, beta=0, output=\"angle\", deadzone=0)\n",
    "t, r, y, u = motor.step_closed(mi_motor,r0=r0, r1=r1, t0=t0, t1=t1);\n",
    "draw_specifications(tee, tr, SP)"
   ]
  },
  {
   "cell_type": "markdown",
   "id": "7e6e7b79",
   "metadata": {},
   "source": [
    "#### Preguntas orientadoras\n",
    "\n",
    "\n",
    "+ Al final de esta parte, además de los gráficos experimentales, presente una tabla con la siguiente información. \n",
    "\n",
    "| Controlador | $\\zeta$ (final) | $\\omega_n$ (final) |  $t_{ee}$ (real) | $t_r$ (real) | $SP$ (real) | \n",
    "\n",
    "+ ¿Cuál de estos controladores tiene la mejor respuesta a perturbaciones, según la teoría y los resultados de la tabla ?\n",
    "\n",
    "\n",
    "#### Experimento respuesta a perfiles de ángulo (rampas de velocidad programadas)\n",
    "\n",
    "\n",
    "+ Obtenga el seguimiento a un perfil de ángulo usando la función `profile_closed()` para ***solo uno*** de los controladores PID  diseñados para el control de ángulo del motor DC. Use un perfil diseñado por usted y tenga en cuenta de generar rampas que el motor pueda alcanzar. \n",
    "\n",
    "\n",
    "+ Obtenga el seguimiento a un perfil de ángulo con un controlador PID para el cual $\\omega_n=0.8\\omega_{max}$, siendo $\\omega_{max}$ la frecuencia natural $\\omega_n$ límite  a la cual sintonizó el controlador diseñado. \n",
    "\n",
    "\n",
    "\n",
    "#### Preguntas orientadoras\n",
    "\n",
    "+ Grafique la respuesta al perfil de ángulo  de los dos controladores en la misma figura. El sintonizado con $\\omega_{max}$ y el sintonizado con $\\omega_n=0.8\\omega_{max}$.\n",
    "\n",
    "+ Compare el desempeño de los dos controladores."
   ]
  },
  {
   "cell_type": "markdown",
   "id": "3fe651cc",
   "metadata": {},
   "source": [
    "## Reto para bonificación\n",
    "\n",
    "Estos puntos son un reto para bonificación. Son completamente opcionales. \n",
    "\n",
    "+ Con base en el método de sintonía algebraica, programe una función de autosintonía que ajuste los parámetros PI para el control de velocidad del motor o para el sistema térmico, dado un determinado sobrepico, tiempo de establecimiento y tiempo de subida. \n",
    "\n",
    "\n",
    "+ Con base en el método de sintonía algebraica, programe una función de autosintonía que ajuste los parámetros PID para el control de ángulo del motor, dado un determinado sobrepico, tiempo de establecimiento y tiempo de subida."
   ]
  }
 ],
 "metadata": {
  "kernelspec": {
   "display_name": "venv",
   "language": "python",
   "name": "python3"
  },
  "language_info": {
   "codemirror_mode": {
    "name": "ipython",
    "version": 3
   },
   "file_extension": ".py",
   "mimetype": "text/x-python",
   "name": "python",
   "nbconvert_exporter": "python",
   "pygments_lexer": "ipython3",
   "version": "3.12.6"
  },
  "widgets": {
   "application/vnd.jupyter.widget-state+json": {
    "state": {},
    "version_major": 2,
    "version_minor": 0
   }
  }
 },
 "nbformat": 4,
 "nbformat_minor": 5
}
