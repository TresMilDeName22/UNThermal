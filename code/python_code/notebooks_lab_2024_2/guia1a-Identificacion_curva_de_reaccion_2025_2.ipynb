{
 "cells": [
  {
   "cell_type": "markdown",
   "id": "c9422e16-5068-4ebe-b498-e631da989eac",
   "metadata": {
    "editable": true,
    "slideshow": {
     "slide_type": ""
    },
    "tags": []
   },
   "source": [
    "# Identificación de sistemas por medio de la curva de reacción (respuesta al escalón).\n",
    "\n",
    "\n",
    "En esta práctica vamos a obtener el modelo por curva de reacción y el modelo estático para un sistema térmico. También lo haremos para un motor DC considerando como salida la velocidad. Usaremos para ello las plantas diseñadas en la universidad denominadoss UNThermal y UNDCMotor.\n",
    "\n",
    "+ El UNThermal es un minilaboratorio que permite realizar el control de temperatura de un par transistor-sensor mediante la administración precisa de potencia eléctrica controlada por una fuente de corriente analógica. \n",
    "\n",
    "+ El UNDCMotor es un minilaboratorio que permite realizar el control de velocidad y ángulo de giro de un motor DC.\n"
   ]
  },
  {
   "cell_type": "markdown",
   "id": "3b961e38-1df0-478e-9e27-47d673262f3d",
   "metadata": {},
   "source": [
    "## Configuración\n",
    "---"
   ]
  },
  {
   "cell_type": "markdown",
   "id": "51c5d6ab-6960-46b6-82c4-92d959f3ffd0",
   "metadata": {},
   "source": [
    "\n",
    "### Instalación de las librerias unthermal y unmotor\n",
    "\n",
    "Ejecutar esta celda solo para instalar por primera vez o actualizar la libreria. __Asegúrese de instalar  [Git](https://git-scm.com/download/win/ \"Git\").__\n",
    "\n",
    "<div class=\"alert alert-block alert-danger\">\n",
    "⚠️ Ejecutar en el terminal solo  para instalar la libreria \n",
    "</div>\n",
    "\n",
    "\n",
    "\n",
    "Ejecute los siguientes comandos en la terminal (bash) de visual studio code solo para instalar o reinstalar las librerias del motor y del sistema térmico. __Asegúrese de instalar  [Git](https://git-scm.com/download/win/ \"Git\").__\n",
    "\n",
    "`pip install --ignore-installed  git+https://github.com/nebisman/UNThermal.git@main#subdirectory=code/python_code`\n",
    "\n",
    "`pip install --ignore-installed  git+https://github.com/nebisman/UNDCMotor.git@main#subdirectory=code/python_code`\n",
    "\n",
    "\n",
    "Si la instalación reporta algún error de permisos del sistema operativo, use esta opción:\n",
    "\n",
    "\n",
    "`pip install --ignore-installed --user git+https://github.com/nebisman/UNThermal.git@main#subdirectory=code/python_code`\n",
    "\n",
    "`pip install --ignore-installed --user git+https://github.com/nebisman/UNDCMotor.git@main#subdirectory=code/python_code`"
   ]
  },
  {
   "cell_type": "markdown",
   "id": "3af7a528-4000-4979-9288-154c34036842",
   "metadata": {
    "editable": true,
    "slideshow": {
     "slide_type": ""
    },
    "tags": []
   },
   "source": [
    "\n",
    "### Importación de comandos de la libreria unthermal y unmotor\n",
    "\n",
    "A continuación importamos los comandos básicos que usaremos de la libreria `unthermal` y la libreria `matplotlib` para las figuras."
   ]
  },
  {
   "cell_type": "code",
   "execution_count": null,
   "id": "initial_id",
   "metadata": {
    "ExecuteTime": {
     "end_time": "2024-10-18T00:15:28.976393Z",
     "start_time": "2024-10-18T00:15:27.343292Z"
    },
    "editable": true,
    "scrolled": true,
    "slideshow": {
     "slide_type": ""
    },
    "tags": []
   },
   "outputs": [],
   "source": [
    "%matplotlib widget\n",
    "import mplcursors\n",
    "import matplotlib.pyplot as plt\n",
    "import unthermal as temp\n",
    "import numpy as np\n",
    "import unmotor as mot"
   ]
  },
  {
   "cell_type": "markdown",
   "id": "ae645517-4b81-4e87-b4b3-d3330a977c71",
   "metadata": {},
   "source": [
    "\n",
    "---"
   ]
  },
  {
   "cell_type": "markdown",
   "id": "be12da5c-147a-46e1-ae29-afe3673bb21b",
   "metadata": {},
   "source": [
    "\n",
    "### Definición del sistema en el IoT\n",
    "\n",
    "En este enlace encuentra toda la ayuda de las funciones  [enlace de la ayuda](https://nebisman.github.io/UNThermal/)\n",
    "\n",
    "Lo primero que necesitamos es definir el sistema y su conexión al IoT. Esto lo hacemos mediante el  comando\n",
    "\n",
    "`ThermalSystemIoT(plant_number=\"xxxx\", broker_address = \"xx.xxx.xxx.xxx\")`.\n",
    "\n",
    "+ El parámetro `plant_number` es el identificador de la planta con que está trabajando. Por ejemplo `plant_number=\"PC-T-XX\"`\n",
    "\n",
    "+ El parámetro `broker_address` es la dirección IP del broker al cual se conecta la planta. Poner siempre ` broker_address = \"192.168.1.100\"` "
   ]
  },
  {
   "cell_type": "code",
   "execution_count": null,
   "id": "aca6686d-6399-4c3a-b8eb-2b78ca05442b",
   "metadata": {
    "ExecuteTime": {
     "end_time": "2024-10-20T20:36:13.420801Z",
     "start_time": "2024-10-20T20:36:13.414544Z"
    },
    "editable": true,
    "slideshow": {
     "slide_type": ""
    },
    "tags": []
   },
   "outputs": [],
   "source": [
    "sistema_termico = temp.ThermalSystemIoT(plant_number = \"PC-T-1\" , broker_address = \"192.168.1.100\")"
   ]
  },
  {
   "cell_type": "markdown",
   "id": "4bf56a3a",
   "metadata": {},
   "source": [
    "## Modelos estático y dinámico del sistema térmico\n",
    "---\n",
    "\n",
    "A continuación vamos a obtener tanto el modelo estático, como el modelo dinámico por respuesta al escalón del sistema térmico"
   ]
  },
  {
   "cell_type": "markdown",
   "id": "ee83cb1c",
   "metadata": {},
   "source": [
    "### Modelo estático del sistema térmico\n",
    "\n",
    "Es natural comenzar investigando el comportamiento estacionario de un sistema bajo\n",
    "control. Esto se hace mediante una curva que muestra el valor en estado estacionario de la\n",
    "salida (en este caso, la temperatura del par transistor-sensor) para diferentes valores de la variable de entrada (en este caso la potencia aplicada). A esta curva se le denomina Modelo Estático del Sistema.\n",
    "\n",
    "\n",
    "El modelo estático se puede obtener experimentalmente de varias formas. *Una manera\n",
    "es que el sistema esté en lazo cerrado con un controlador preajustado e ir ajustando diferentes valores de la referencia. Cuando la salida (en este caso la temperatura) alcanza el valor estacionario de referencia, se registra la señal de control que fue necesaria. Esto da un punto del modelo estático. Este procedimiento se repite para cubrir el rango completo de entradas.*\n",
    "\n",
    "\n",
    "\n",
    "+ La  función `get_static_model(system)` nos permite obtener el modelo estático del UNThermal definido por la instancia del UNThermal creada con la función  `ThermalSystemIoT(.)`\n",
    "+ La funcion `plt.savefig(.)` permite guardar la figura en en cualquier formato para su video informe\n",
    "+ `plt.show` hace que su figura se guarde al guardar y cerrar el notebook.\n",
    "\n",
    "\n",
    "*Note que la salida los valores de estado estacionario de la entrada y la salida quedan registrados en las variables `ue`, `ye`. También quedan guardados en el archivo `\\experiment_files\\DCmotor_static_gain_response.csv` presente en la carpeta en la que ejecuta este script.*\n",
    "\n",
    "\n"
   ]
  },
  {
   "cell_type": "code",
   "execution_count": null,
   "id": "66cff7d7",
   "metadata": {},
   "outputs": [],
   "source": [
    "ue, ye = temp.get_static_model(sistema_termico) \n",
    "plt.savefig(\"static_model.pdf\", format=\"pdf\", bbox_inches=\"tight\") # la figura se guarda en el archivo que ud desee\n",
    "plt.show() # esta linea es para que la figura se mantenga al guardar el notebook"
   ]
  },
  {
   "cell_type": "markdown",
   "id": "38d3e02f",
   "metadata": {},
   "source": [
    "### Preguntas orientadoras sobre el modelo estático\n",
    "\n",
    "Por favor discuta las preguntas con su compañero inmediatamente durante la práctica y respondalas en su videoinforme \n",
    "\n",
    "1.  Considere que el rango de operación va desde  $40^oC$ hasta $100^oC$. ¿Existen temperaturas en este rango más dificiles de controlar, según el modelo estático?\n",
    "2.  Suponga que un modelo aproximado del sistema térmico está dado por $G(s)=\\frac{\\alpha}{\\tau\\,s+1}\\, e^{-sL}$. ¿Cual de los parámetros ($\\alpha$ o $\\tau$) podriamos asumir como aproximadamente constante, según la curva del modelo estático?\n",
    "3.  ¿Cual es la señal de control necesaria para controlar una temperatura cercana a $55^oC$?"
   ]
  },
  {
   "cell_type": "markdown",
   "id": "8188c434-54e2-42d1-b98d-597c24c01797",
   "metadata": {},
   "source": [
    "\n",
    "\n",
    "### Modelo dinámico por respuesta al escalón\n",
    "\n",
    "Cuando se realiza la linealización del modelo del UNThermal se obtiene un  modelo lineal de primer orden, tal y como puede revisar en este [documento](https://github.com/nebisman/UNThermal/blob/main/docs/modelo_matematico_unthermal.pdf).\n",
    "\n",
    "Así, nuestro sistema térmico, dentro de una región cercana al punto de operación, puede ser descrito por la siguiente función de transferencia:\n",
    "\n",
    "$$G(s)= \\frac{\\alpha}{\\tau\\, s + 1} \\, e^{-L\\,s}$$\n",
    "\n",
    "Es usual que la primera prueba de identificación de sistemas que parecen de primer orden sea por la respuesta al escalón. "
   ]
  },
  {
   "cell_type": "markdown",
   "id": "75bd2236-2568-4422-8522-df25c4fecd6d",
   "metadata": {
    "editable": true,
    "slideshow": {
     "slide_type": ""
    },
    "tags": []
   },
   "source": [
    "\n",
    "### Método de estimación de los parámetros del sistema por la curva de reacción\n",
    " \n",
    " A continuación usamos el método de 2 puntos para la identificación del modelo de primer orden, según el procedimiento descrito en este [documento](https://github.com/nebisman/UNThermal/blob/main/docs/metodo_2_puntos.pdf). \n",
    "\n",
    "\n",
    " Para iniciar hacemos el experimento de respuesta al escalón, usando el comando `step_open`, [descrito en este enlace](https://nebisman.github.io/UNThermal/step_open.html). Con este comando obtenemos la respuesta al escalón, partiendo del punto de operación $y_{OP}=60^o$ y con una amplitud del cambio en el escalón $\\Delta_u=10 \\%$"
   ]
  },
  {
   "cell_type": "code",
   "execution_count": null,
   "id": "273c4fe8",
   "metadata": {},
   "outputs": [],
   "source": [
    "# inicialmente hacemos el experimento de respuesta al escalón para 60 grados\n",
    "t, u, y = temp.step_open(sistema_termico, yop=60, amplitude=10);"
   ]
  },
  {
   "cell_type": "code",
   "execution_count": null,
   "id": "6ae4ec3b",
   "metadata": {},
   "outputs": [],
   "source": [
    "# Asi grafico los datos de la salida y de la entrada\n",
    "plt.plot(t,y)\n",
    "plt.plot(t,u)\n",
    "plt.show()"
   ]
  },
  {
   "cell_type": "markdown",
   "id": "7245da06",
   "metadata": {},
   "source": [
    "### Trabajo experimental con el sistema térmico\n",
    "\n",
    "+ Con los datos obtenidos en los vectores $t,u,y$ o graficamente, obtenga el modelo de primer orden con retardo,  según los pasos descritos en este [documento](https://github.com/nebisman/UNThermal/blob/main/docs/metodo_2_puntos.pdf). Note que los resultados también se guardan en el archivo `Thermal_step_open_exp.csv` de la carpeta experiment_files, por si prefiere hacer los cálculos en otro programa.\n",
    "\n",
    "+ Compare en la misma grafica el modelo mátemático obtenido con los datos experimentales."
   ]
  },
  {
   "cell_type": "markdown",
   "id": "dd334560",
   "metadata": {},
   "source": [
    "## Modelo estático y dinámico para el Motor DC\n",
    "___\n",
    "\n",
    "A continuación vamos a realizar el trabajo de un modelo estático y dinámico para el Motor DC. Para ello. primero definimos la planta como objeto IoT. Esto lo hacemos a continuación:"
   ]
  },
  {
   "cell_type": "code",
   "execution_count": null,
   "id": "3daad523",
   "metadata": {},
   "outputs": [],
   "source": [
    "my_motor = mot.MotorSystemIoT(plant_number = \"PC-M-XX\", broker_address = \"192.168.1.100\") "
   ]
  },
  {
   "cell_type": "markdown",
   "id": "576033a2",
   "metadata": {},
   "source": [
    "### Modelo estático del Motor DC\n",
    "\n",
    "\n",
    "\n",
    "El modelo estático se puede obtener experimentalmente de varias formas. *otra manera\n",
    "habitual es ajustar un valor constante de entrada y medir la salida en estado estacionario.\n",
    "Esto da un punto del modelo estático. Este procedimiento se repite para cubrir el\n",
    "rango completo de entradas.*\n",
    "\n",
    "+ La  función `get_static_model(m)` nos permite obtener el modelo estático del UNDCmotor definido por la instancia del UNDCMotor creada con la función  `MotorSystemIoT(.)`\n",
    "\n",
    "+ La función `plt.savefig(.)` permite guardar la figura en en cualquier formato."
   ]
  },
  {
   "cell_type": "code",
   "execution_count": null,
   "id": "0d5f6547",
   "metadata": {},
   "outputs": [],
   "source": [
    "ue, ye = mot.get_static_model(my_motor) \n",
    "plt.savefig(\"static_model.pdf\", format=\"pdf\", bbox_inches=\"tight\") # la figura se guarda en el archivo que ud desee\n",
    "plt.show() # esta linea es para que la figura se mantenga al guardar el notebook"
   ]
  },
  {
   "cell_type": "markdown",
   "id": "df4a0623",
   "metadata": {},
   "source": [
    "#### Preguntas orientadoras sobre el modelo estático\n",
    "\n",
    "Discuta estas preguntas con su compañero e incluya una respuesta breve en su video informe.\n",
    "\n",
    "1.  ¿Cuál es la zona muerta del motor?\n",
    "2.  ¿Para cuales rangos de velocidad podría ser difícil controlar el motor?\n",
    "3.  ¿Hasta que velocidad máxima se puede controlar el motor?\n",
    "4.  Suponga que un modelo aproximado del motor está dado por $G(s)=\\frac{\\alpha}{\\tau\\,s+1} e^{-sL}$. ¿Cual de los parámetros ($\\alpha$, $L$, o $\\tau$) varía ampliamente, según se ve reflejado en la  no linealidad  de la curva del modelo estático? "
   ]
  },
  {
   "cell_type": "markdown",
   "id": "86e7c2b9",
   "metadata": {},
   "source": [
    "### Modelo dinámico por respuesta al escalón \n",
    "---\n",
    "\n",
    "Un motor DC puede ser descrito con muy buena aproximación por un  [modelo lineal de primer orden](https://github.com/nebisman/UNDCMotor/blob/main/docs/modelo_matematico_unmotor.pdf), si consideramos que la entrada es tensión y la salida es la velocidad angular.\n",
    "\n",
    "Así, el UNDCMotor puede ser descrito por la siguiente función de transferencia:\n",
    "\n",
    "$$G(s)= \\frac{\\alpha}{\\tau\\, s + 1} e^{-sL}$$\n",
    "\n",
    "*Note que el retardo fundamentalmente aparece por el tiempo de muestreo del sistema digital que procesa la información.*\n",
    "\n",
    "\n",
    "\n",
    "La función `get_fomodel_step(system, yop = desired_op)`  *(get first order model by using step response)* permite obtener la respuesta al escalón y el modelo matemático del UNDCMotor directamente. [Aqui está la ayuda](https://nebisman.github.io/UNThermal/get_fomodel_step.html#)  \n",
    "\n",
    "+ El parámetro `system` es la instancia del UNDCMotor creada con la función  `MotorSystemIoT(.)`\n",
    "\n",
    "+ El parámetro `yop = desired_op` permite obtener la respuesta al escalón con un cambio de tensión que centra, aproximadamente, los valores final e inicial del escalón en el punto de operación `yop`.\n",
    "\n",
    "+  `alpha, tau` y `L` retornan los parámetros del motor.\n",
    "\n",
    "En el ejemplo siguiente obtenemos la respuesta al escalón y el modelo para un punto de operación. "
   ]
  },
  {
   "cell_type": "code",
   "execution_count": null,
   "id": "b8dc17a8",
   "metadata": {},
   "outputs": [],
   "source": [
    "#Ejemplo\n",
    "alfa, tau, L = mot.get_fomodel_step(my_motor, yop = 300)\n",
    "plt.savefig(\"first_order_model_yop_150.pdf\", format=\"pdf\", bbox_inches=\"tight\") # para salvar la figura\n",
    "plt.show() # para congelarla en el notebook\n",
    "\n"
   ]
  },
  {
   "cell_type": "markdown",
   "id": "c9aff188",
   "metadata": {},
   "source": [
    "\n",
    "### Trabajo experimental con el motor\n",
    "\n",
    "Encuentre los modelos dinámicos por respuesta al escalón para los siguientes puntos de operación:\n",
    "\n",
    "+ $y_{OP}=150^o/s$\n",
    "+ $y_{OP}=300^o/s$\n",
    "+ $y_{OP}=600^o/s$\n",
    "\n",
    "#### Preguntas sobre el modelo por respuesta al escalón\n",
    "\n",
    "+ Describa como cambia la constante de tiempo $\\tau$ al incrementar la velocidad.\n",
    "+ Discuta que pasaría si se requiere un controlador para garantizar velocidad de $10^o/s$ en este sistema. \n",
    "+ Describa como cambia la constante de ganancia $\\alpha$ al incrementar la velocidad.\n",
    "+ Suponga que vamos a controlar el motor en velocidades que van desde $300^o/s$ a $600^o/s$. Realizando múltiples experimentos, obtenga diferentes modelos por curva de reacción que permitan caracterizar la incertidumbre absoluta de los parámetros $\\alpha$ y $\\tau$.\n"
   ]
  }
 ],
 "metadata": {
  "kernelspec": {
   "display_name": ".venv",
   "language": "python",
   "name": "python3"
  },
  "language_info": {
   "codemirror_mode": {
    "name": "ipython",
    "version": 3
   },
   "file_extension": ".py",
   "mimetype": "text/x-python",
   "name": "python",
   "nbconvert_exporter": "python",
   "pygments_lexer": "ipython3",
   "version": "3.13.3"
  },
  "widgets": {
   "application/vnd.jupyter.widget-state+json": {
    "state": {},
    "version_major": 2,
    "version_minor": 0
   }
  }
 },
 "nbformat": 4,
 "nbformat_minor": 5
}
