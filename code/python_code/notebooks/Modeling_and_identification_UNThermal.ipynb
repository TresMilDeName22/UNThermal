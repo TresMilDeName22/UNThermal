{
 "cells": [
  {
   "cell_type": "markdown",
   "id": "c9422e16-5068-4ebe-b498-e631da989eac",
   "metadata": {
    "editable": true,
    "slideshow": {
     "slide_type": ""
    },
    "tags": []
   },
   "source": [
    "\n",
    "# Modelamiento e identificación del UNThermal\n",
    "\n",
    "El UNThermal es un minilaboratorio que permite realizar el control de temperatura de un par transistor-sensor mediante la administración precisa de potencia eléctrica controlada por una fuente de corriente. \n"
   ]
  },
  {
   "cell_type": "markdown",
   "id": "3b961e38-1df0-478e-9e27-47d673262f3d",
   "metadata": {},
   "source": [
    "## 1. Configuración"
   ]
  },
  {
   "cell_type": "markdown",
   "id": "51c5d6ab-6960-46b6-82c4-92d959f3ffd0",
   "metadata": {},
   "source": [
    "\n",
    "### Instalación de la libreria unthermal\n",
    "\n",
    "Descomentar y ejecutar esta celda solo para instalar por primera vez o actualizar la libreria. __Asegúrese de instalar  [Git](https://git-scm.com/download/win/ \"Git\").__\n"
   ]
  },
  {
   "cell_type": "code",
   "execution_count": null,
   "id": "0d0a5fb1-ea33-483f-b97d-cbbafcbd5cbc",
   "metadata": {
    "editable": true,
    "scrolled": true,
    "slideshow": {
     "slide_type": ""
    },
    "tags": []
   },
   "outputs": [],
   "source": [
    "import subprocess\n",
    "command = [\"pip\", \"install\", \"-I\", \"git+https://github.com/nebisman/UNThermal.git@main#subdirectory=code/python_code\"]\n",
    "process = subprocess.Popen(command, stdout=subprocess.PIPE, stderr=subprocess.STDOUT, text=True)\n",
    "for line in process.stdout:\n",
    "    print(line.strip())"
   ]
  },
  {
   "cell_type": "markdown",
   "id": "3af7a528-4000-4979-9288-154c34036842",
   "metadata": {
    "editable": true,
    "slideshow": {
     "slide_type": ""
    },
    "tags": []
   },
   "source": [
    "\n",
    "### Importación de comandos de la libreria unthermal y de Matplotlib \n",
    "\n",
    "A continuación importamos los comandos básicos que usaremos de la libreria unmotor y la libreria Matplotlib para realizar trabajo adicional con las figuras. Ase"
   ]
  },
  {
   "cell_type": "code",
   "execution_count": null,
   "id": "initial_id",
   "metadata": {
    "ExecuteTime": {
     "end_time": "2024-10-18T00:10:04.208288Z",
     "start_time": "2024-10-18T00:09:54.137860Z"
    },
    "editable": true,
    "scrolled": true,
    "slideshow": {
     "slide_type": ""
    },
    "tags": []
   },
   "outputs": [
    {
     "ename": "",
     "evalue": "",
     "output_type": "error",
     "traceback": [
      "\u001B[1;31mRunning cells with 'Python 3.12.3' requires the ipykernel package.\n",
      "\u001B[1;31mRun the following command to install 'ipykernel' into the Python environment. \n",
      "\u001B[1;31mCommand: '/bin/python3 -m pip install ipykernel -U --user --force-reinstall'"
     ]
    }
   ],
   "source": [
    "%matplotlib widget\n",
    "import matplotlib.pyplot as plt\n",
    "from unthermal import ThermalSystemIoT, get_static_model, get_models_prbs, get_fomodel_step, step_closed"
   ]
  },
  {
   "cell_type": "markdown",
   "id": "dc3598807cbba5c",
   "metadata": {},
   "source": []
  },
  {
   "cell_type": "markdown",
   "id": "ae645517-4b81-4e87-b4b3-d3330a977c71",
   "metadata": {},
   "source": [
    "\n",
    "---"
   ]
  },
  {
   "cell_type": "markdown",
   "id": "be12da5c-147a-46e1-ae29-afe3673bb21b",
   "metadata": {},
   "source": [
    "\n",
    "## 2. Definición del sistema en el IoT\n",
    "\n",
    "Lo primero que necesitamos es definir el sistema y su conexión al IoT. Esto lo hacemos mediante el  comando\n",
    "\n",
    "`ThermalSystemIoT(plant_number=\"xxxx\", broker_address = \"xx.xxx.xxx.xxx\")`.\n",
    "\n",
    "+ El parámetro `plant_number` es el identificador de la planta con que está trabajando. Por ejemplo `plant_number=\"PC-T-01\"`\n",
    "\n",
    "+ El parámetro `broker_address` es la dirección IP del broker al cual se conecta la planta. Por ejemplo ` broker_address = \"192.168.1.100\"` "
   ]
  },
  {
   "cell_type": "code",
   "execution_count": null,
   "id": "aca6686d-6399-4c3a-b8eb-2b78ca05442b",
   "metadata": {
    "editable": true,
    "slideshow": {
     "slide_type": ""
    },
    "tags": []
   },
   "outputs": [],
   "source": [
    "my_thermal = ThermalSystemIoT(plant_number = \"PC-T-XX\" , broker_address = \"192.168.1.100\")"
   ]
  },
  {
   "cell_type": "markdown",
   "id": "8b24157d-d733-44a9-9819-2fb993b2fede",
   "metadata": {},
   "source": [
    "\n",
    "## 3. Modelo dinámico del UNThermal\n",
    "\n",
    "A continuación vamos a obtener el modelo dinámico del UNDCMotor usando dos tipos de experimentos:\n",
    "\n",
    "1. Modelo por respuesta al escalón\n",
    "2. Modelo por respuesta a una secuencia binaria pseudoaleatoria.\n",
    "   "
   ]
  },
  {
   "cell_type": "markdown",
   "id": "8188c434-54e2-42d1-b98d-597c24c01797",
   "metadata": {},
   "source": [
    "---\n",
    "\n",
    "### Modelo por Respuesta al escalón \n",
    "\n",
    "Cuando se realiza la linealización del modelo no lineal del UNThermal se obtiene un  [modelo lineal de primer orden](https://github.com/nebisman/UNDCMotor/blob/main/docs/modelo_matematico_unmotor.pdf).\n",
    "\n",
    "Así, el UNThermal puede ser descrito por la siguiente función de transferencia en una región cercana al punto de operación:\n",
    "\n",
    "$$G(s)= \\frac{\\alpha}{\\tau\\, s + 1}$$\n",
    "\n",
    "Es usual que la primera prueba de identificación de sistemas que parecen de primer orden sea por la respuesta al escalón. \n",
    "\n",
    "La función `G = get_fomodel_step(system, yop = desired_op)`  *(get first order model by using step response)* permite obtener la respuesta al escalón y el modelo matemático del UNThermal por medio del [método de los 4 puntos](https://github.com/nebisman/UNDCMotor/blob/main/docs/metodo_4_puntos.pdf).\n",
    "\n",
    "+ El parámetro `system` es la instancia del UNThermalr creada con la función  `ThermalSystemIoT(.)`\n",
    "\n",
    "+ El parámetro `yop = desired_op` permite obtener la respuesta al escalón con un cambio de potencia que inicia exactamente en el punto de operación `yop`.\n",
    "\n",
    "+  La salida `G` retorna la función de transferencia del sistema.\n",
    "\n",
    "En el ejemplo siguiente obtenemos la respuesta al escalón y el modelo para el punto de operación $y_{OP}=50 ^o/s$.\n",
    "\n"
   ]
  },
  {
   "cell_type": "code",
   "execution_count": null,
   "id": "902cf0f8-cbd1-4b78-9d4a-483218f2681a",
   "metadata": {
    "editable": true,
    "slideshow": {
     "slide_type": ""
    },
    "tags": []
   },
   "outputs": [],
   "source": [
    "\n",
    "G = get_fomodel_step(my_thermal, yop = xx);\n",
    "plt.savefig(\"first_order_model_yop_100.png\", format=\"png\", bbox_inches=\"tight\")\n",
    "plt.show() # esta linea es para que la figura se mantenga al guardar el notebook"
   ]
  },
  {
   "cell_type": "markdown",
   "id": "75bd2236-2568-4422-8522-df25c4fecd6d",
   "metadata": {
    "editable": true,
    "slideshow": {
     "slide_type": ""
    },
    "tags": []
   },
   "source": [
    "\n",
    "#### Experimento con el modelo por respuesta al escalón\n",
    "\n",
    "Encuentre los modelos dinámicos por respuesta al escalón para los siguientes puntos de operación:\n",
    "\n",
    "+ $y_{OP}=60^o\\,C$\n",
    "+ $y_{OP}=80^o\\,C$\n"
   ]
  },
  {
   "cell_type": "markdown",
   "id": "1a35627c-c331-471d-a46b-cbb221932976",
   "metadata": {},
   "source": [
    "\n",
    "#### Preguntas sobre el modelo por respuesta al escalón\n",
    "\n",
    "+ Describa como cambia la constante de tiempo $\\tau$ al incrementar la temperatura\n",
    "+ Describa como cambia la constante de ganancia $\\alpha$ al incrementar la temperatura\n",
    "\n",
    "\n",
    "---\n",
    "  "
   ]
  },
  {
   "cell_type": "markdown",
   "id": "2ccc1ba9-29f7-403f-a992-ac17488f4d8b",
   "metadata": {},
   "source": [
    "\n",
    "## 4. Modelo estático del UNThermal\n",
    "\n",
    "Es natural comenzar investigando el comportamiento estacionario de un sistema bajo\n",
    "control. Esto se hace mediante una curva que muestra el valor en estado estacionario de la\n",
    "salida (en este caso, la temperatura del par transistor-sensor) para diferentes valores de la variable de entrada (en este caso la potencia aplicada). A esta curva se le denomina Modelo Estático del Sistema.\n",
    "\n",
    "\n",
    "El modelo estático se puede obtener experimentalmente de varias formas. *Una manera\n",
    "es que el sistema esté en lazo cerrado con un controlador e ir ajustando diferentes valores de la referencia. Cuando la salida (en este caso la temperatura) alcanza el valor estacinario de referencia, se registra la señal de control que fue necesaria. Esto da un punto del modelo estático. Este procedimiento se repite para cubrir el rango completo de entradas.*\n",
    "\n",
    "+ La  función `get_static_model(system)` nos permite obtener el modelo estático del UNThermal definido por la instancia del UNThermal creada con la función  `ThermalSystemIoT(.)`\n",
    "+ La funcion `plt.savefig(.)` permite guardar la figura en en cualquier formato para su video informe\n",
    "+ `plt.show` hace que su figura se guarde al guardar y cerrar el notebook.\n",
    "  "
   ]
  },
  {
   "cell_type": "markdown",
   "id": "4a87aec4-5b10-42c1-9c16-8b579e466166",
   "metadata": {},
   "source": [
    "\n",
    "\n",
    "*Note que la salida los valores de estado estacionario de la entrada y la salida quedan registrados en las variables `ue`, `ye`. También quedan guardados en el archivo `\\experiment_files\\DCmotor_static_gain_response.csv` presente en la carpeta en la que ejecuta este script.*\n"
   ]
  },
  {
   "cell_type": "code",
   "execution_count": null,
   "id": "96b1c1a6-8c25-4af9-8da1-53fa78e2a1b2",
   "metadata": {
    "editable": true,
    "scrolled": true,
    "slideshow": {
     "slide_type": ""
    },
    "tags": []
   },
   "outputs": [],
   "source": [
    "ue, ye = get_static_model(my_thermal) \n",
    "plt.savefig(\"static_model.png\", format=\"png\", bbox_inches=\"tight\") \n",
    "plt.show() # esta linea es para que la figura se mantenga al guardar el notebook"
   ]
  },
  {
   "cell_type": "markdown",
   "id": "3de13f55-389f-4017-bd7f-8a7fbd322408",
   "metadata": {},
   "source": [
    "\n",
    "### Preguntas sobre el modelo estático\n",
    "\n",
    "Por favor responda las siguientes preguntas sobre el modelo estático en su videoinforme y haga una explicación preliminar muy breve en este documento discutiendo con su compañero. Compare con lo que pasa con el motor DC. \n",
    "\n",
    "1.  Considere que el rango de operación va desde  $40^oC$ hasta $100^oC$. ¿Existen temperaturas en este rango más dificiles de controlar, según el modelo estático?\n",
    "2.  Suponga que un modelo aproximado del sistema térmico está dado por $G(s)=\\frac{\\alpha}{\\tau\\,s+1}$. ¿Cual de los parámetros ($\\alpha$ o $\\tau$) podriamos asumir como aproximadamente constante, según la curva del modelo estático?\n",
    "3.  ¿Cual es la máxima señal de control que tendriamos disponible para controlar una temperatura cercana a $60^oC$.\n",
    "   "
   ]
  },
  {
   "cell_type": "markdown",
   "id": "c6236f61-e223-41b5-bfc2-1d2e3a552823",
   "metadata": {},
   "source": [
    "\n",
    "## 5. Modelo por respuesta a una señal binaria pseudoaleatoria (PRBS) \n",
    "\n",
    "\n",
    "Una forma de experimento más refinado para obtener el modelo lineal de un sistema en torno de un punto de operación es mediante el uso de **secuencias binarias pseudoaleatorias**. Este tipo de secuencias tienen una mayor riqueza espectral que los simples escalones y, por consiguiente, permiten obtener modelos lineales más refinados de un sistema en torno de un punto de operación.\n",
    "\n",
    "El UNThermal puede ser descrito por  [la siguiente función de transferencia de primer orden](https://github.com/nebisman/UNDCMotor/blob/main/docs/modelo_matematico_unmotor.pdf):\n",
    "\n",
    "$$G_1(s)= \\frac{\\alpha}{\\tau\\, s + 1} \\text{ (Ec. 1)}.$$ \n",
    "\n",
    "Y, para aproximar el retardo introducido por el tiempo de muestreo se puede usar una función de transferencia de segundo orden, dada por: \n",
    "\n",
    "$$G_2(s)= \\frac{\\alpha}{\\tau\\, s + 1} \\, e^{-\\tau_D\\,s} \\text{ (Ec. 2)}.$$\n",
    "\n",
    "\n",
    "La función `G1, G2 = get_models_prbs(system, yop = desired_speed)` (*get models by using a PRBS input*) permite obtener la respuesta a una entrada de tipo PRBS y encuentra los modelos de primer (FO) y de primer orden con retardo (FOTD) que mejor ajustan los datos.\n",
    "\n",
    "+ El parámetro `system` es la instancia del UNDCMotor creada con la función  `ThermalSystemIoT(.)`\n",
    "\n",
    "+ El parámetro `yop = desired_op` permite obtener el experimento con la entrada PRBS centrada en el punto de operación `yop`\n",
    "\n",
    "+  Las salidas `G1` y `G2` retornan, respectivamente, las funciones de transferencia de primero y segundo orden del UNThermal.\n",
    "\n",
    "En el ejemplo siguiente obtenemos la respuesta a una entrada PRBS para el punto de operación $y_{OP}=50 ^o/s$.\n",
    "\n"
   ]
  },
  {
   "cell_type": "code",
   "execution_count": null,
   "id": "6e5c8560-0bb8-4f9c-a9f0-eef06df995a1",
   "metadata": {},
   "outputs": [],
   "source": [
    "get_models_prbs(my_thermal, yop = xx);\n",
    "plt.savefig(\"PRBS_models_yop_100.png\", format=\"png\", bbox_inches=\"tight\")  \n",
    "plt.show() # esta linea es para que la figura se mantenga al guardar el notebook"
   ]
  },
  {
   "cell_type": "markdown",
   "id": "70ae3ad7-45db-461c-9497-95ea7df0867c",
   "metadata": {},
   "source": [
    "\n",
    "#### Experimentos con la entrada PRBS\n",
    "\n",
    "Encuentre los modelos dinámicos por por medio de la entrada PRBS para los siguientes puntos de operación:\n",
    "\n",
    "+ $y_{OP}=60^o\\, C$\n",
    "+ $y_{OP}=80^o\\, C$"
   ]
  },
  {
   "cell_type": "markdown",
   "id": "0507acd1-9be3-4eb7-96e0-427e14c9a0be",
   "metadata": {},
   "source": [
    "\n",
    "#### Preguntas sobre los modelos con la entrada PRBS\n",
    "\n",
    "+ Compare los modelos de primer orden con los obtenidos por la respuesta al escalón. ¿Se parecen?\n",
    "+ Como difieren entre sí los modelos tomados a $60^o$ y a  $80^o$. Compare cualitativamente con las diferencias encontradas entre los diferentes puntos de operación en el UNMotor en su rango de operación.\n",
    "+ Según estos modelos, ¿Cúal de los dos sistemas (motor o sistema térmico) es más fácil de controlar?\n",
    "  "
   ]
  }
 ],
 "metadata": {
  "kernelspec": {
   "display_name": "Python 3",
   "language": "python",
   "name": "python3"
  },
  "language_info": {
   "codemirror_mode": {
    "name": "ipython",
    "version": 3
   },
   "file_extension": ".py",
   "mimetype": "text/x-python",
   "name": "python",
   "nbconvert_exporter": "python",
   "pygments_lexer": "ipython3",
   "version": "3.12.3"
  },
  "widgets": {
   "application/vnd.jupyter.widget-state+json": {
    "state": {},
    "version_major": 2,
    "version_minor": 0
   }
  }
 },
 "nbformat": 4,
 "nbformat_minor": 5
}
