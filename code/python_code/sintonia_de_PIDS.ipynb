{
 "cells": [
  {
   "cell_type": "markdown",
   "id": "c9422e16-5068-4ebe-b498-e631da989eac",
   "metadata": {
    "editable": true,
    "slideshow": {
     "slide_type": ""
    },
    "tags": []
   },
   "source": [
    "# Sintonía de controladores PID con base en los modelos de curva de reacción\n",
    "\n",
    "\n",
    "En esta práctica vamos a obtener los modelos por curva de reacción y los modelo estáticos para un sistema térmico y, también, para un motor DC considerando como sañlida la velocidad. Usaremos las plantas diseñadas en la universidad llamadas UNThermal y UNDCMotor\n",
    "\n",
    "+ El UNThermal es un minilaboratorio que permite realizar el control de temperatura de un par transistor-sensor mediante la administración precisa de potencia eléctrica controlada por una fuente de corriente. \n",
    "\n",
    "+ El UNDCMotor es un minilaboratorio que permite realizar el control de velocidad y ángulo de giro de un motor DC. \n"
   ]
  },
  {
   "cell_type": "markdown",
   "id": "3b961e38-1df0-478e-9e27-47d673262f3d",
   "metadata": {},
   "source": [
    "## 1. Configuración\n",
    "\n",
    "---"
   ]
  },
  {
   "cell_type": "markdown",
   "id": "51c5d6ab-6960-46b6-82c4-92d959f3ffd0",
   "metadata": {},
   "source": [
    "\n",
    "### Instalación de las librerias unthermal y unmotor\n",
    "\n",
    "Descomentar y ejecutar esta celda solo para instalar por primera vez o actualizar las librerias. __Asegúrese de instalar  [Git](https://git-scm.com/download/win/ \"Git\").__\n",
    "\n"
   ]
  },
  {
   "cell_type": "code",
   "execution_count": 1,
   "id": "0d0a5fb1-ea33-483f-b97d-cbbafcbd5cbc",
   "metadata": {
    "editable": true,
    "scrolled": true,
    "slideshow": {
     "slide_type": ""
    },
    "tags": []
   },
   "outputs": [
    {
     "name": "stdout",
     "output_type": "stream",
     "text": [
      "Collecting git+https://github.com/nebisman/UNThermal.git@main#subdirectory=code/python_code\n",
      "Cloning https://github.com/nebisman/UNThermal.git (to revision main) to /tmp/pip-req-build-dc695un4\n",
      "Running command git clone --filter=blob:none --quiet https://github.com/nebisman/UNThermal.git /tmp/pip-req-build-dc695un4\n",
      "Resolved https://github.com/nebisman/UNThermal.git to commit c0acc22d6b7a0643ea071e24f5370441f8856f6f\n",
      "Installing build dependencies: started\n",
      "Installing build dependencies: finished with status 'done'\n",
      "Getting requirements to build wheel: started\n",
      "Getting requirements to build wheel: finished with status 'done'\n",
      "Preparing metadata (pyproject.toml): started\n",
      "Preparing metadata (pyproject.toml): finished with status 'done'\n",
      "Collecting iottalk-paho-mqtt (from unthermal==0.1.13)\n",
      "Using cached iottalk_paho_mqtt-1.5.1-py3-none-any.whl.metadata (46 kB)\n",
      "Collecting control (from unthermal==0.1.13)\n",
      "Using cached control-0.10.1-py3-none-any.whl.metadata (7.6 kB)\n",
      "Collecting numpy (from unthermal==0.1.13)\n",
      "Using cached numpy-2.2.4-cp313-cp313-manylinux_2_17_x86_64.manylinux2014_x86_64.whl.metadata (62 kB)\n",
      "Collecting matplotlib (from unthermal==0.1.13)\n",
      "Using cached matplotlib-3.10.1-cp313-cp313-manylinux_2_17_x86_64.manylinux2014_x86_64.whl.metadata (11 kB)\n",
      "Collecting scipy (from unthermal==0.1.13)\n",
      "Using cached scipy-1.15.2-cp313-cp313-manylinux_2_17_x86_64.manylinux2014_x86_64.whl.metadata (61 kB)\n",
      "Collecting ipympl (from unthermal==0.1.13)\n",
      "Using cached ipympl-0.9.7-py3-none-any.whl.metadata (8.7 kB)\n",
      "Collecting mplcursors (from unthermal==0.1.13)\n",
      "Using cached mplcursors-0.6-py3-none-any.whl.metadata (3.0 kB)\n",
      "Collecting contourpy>=1.0.1 (from matplotlib->unthermal==0.1.13)\n",
      "Using cached contourpy-1.3.1-cp313-cp313-manylinux_2_17_x86_64.manylinux2014_x86_64.whl.metadata (5.4 kB)\n",
      "Collecting cycler>=0.10 (from matplotlib->unthermal==0.1.13)\n",
      "Using cached cycler-0.12.1-py3-none-any.whl.metadata (3.8 kB)\n",
      "Collecting fonttools>=4.22.0 (from matplotlib->unthermal==0.1.13)\n",
      "Using cached fonttools-4.57.0-cp313-cp313-manylinux_2_5_x86_64.manylinux1_x86_64.manylinux_2_17_x86_64.manylinux2014_x86_64.whl.metadata (102 kB)\n",
      "Collecting kiwisolver>=1.3.1 (from matplotlib->unthermal==0.1.13)\n",
      "Using cached kiwisolver-1.4.8-cp313-cp313-manylinux_2_17_x86_64.manylinux2014_x86_64.whl.metadata (6.2 kB)\n",
      "Collecting packaging>=20.0 (from matplotlib->unthermal==0.1.13)\n",
      "Using cached packaging-24.2-py3-none-any.whl.metadata (3.2 kB)\n",
      "Collecting pillow>=8 (from matplotlib->unthermal==0.1.13)\n",
      "Using cached pillow-11.1.0-cp313-cp313-manylinux_2_28_x86_64.whl.metadata (9.1 kB)\n",
      "Collecting pyparsing>=2.3.1 (from matplotlib->unthermal==0.1.13)\n",
      "Using cached pyparsing-3.2.3-py3-none-any.whl.metadata (5.0 kB)\n",
      "Collecting python-dateutil>=2.7 (from matplotlib->unthermal==0.1.13)\n",
      "Using cached python_dateutil-2.9.0.post0-py2.py3-none-any.whl.metadata (8.4 kB)\n",
      "Collecting ipython<10 (from ipympl->unthermal==0.1.13)\n",
      "Using cached ipython-9.1.0-py3-none-any.whl.metadata (4.4 kB)\n",
      "Collecting ipywidgets<9,>=7.6.0 (from ipympl->unthermal==0.1.13)\n",
      "Using cached ipywidgets-8.1.5-py3-none-any.whl.metadata (2.3 kB)\n",
      "Collecting traitlets<6 (from ipympl->unthermal==0.1.13)\n",
      "Using cached traitlets-5.14.3-py3-none-any.whl.metadata (10 kB)\n",
      "Collecting decorator (from ipython<10->ipympl->unthermal==0.1.13)\n",
      "Using cached decorator-5.2.1-py3-none-any.whl.metadata (3.9 kB)\n",
      "Collecting ipython-pygments-lexers (from ipython<10->ipympl->unthermal==0.1.13)\n",
      "Using cached ipython_pygments_lexers-1.1.1-py3-none-any.whl.metadata (1.1 kB)\n",
      "Collecting jedi>=0.16 (from ipython<10->ipympl->unthermal==0.1.13)\n",
      "Using cached jedi-0.19.2-py2.py3-none-any.whl.metadata (22 kB)\n",
      "Collecting matplotlib-inline (from ipython<10->ipympl->unthermal==0.1.13)\n",
      "Using cached matplotlib_inline-0.1.7-py3-none-any.whl.metadata (3.9 kB)\n",
      "Collecting pexpect>4.3 (from ipython<10->ipympl->unthermal==0.1.13)\n",
      "Using cached pexpect-4.9.0-py2.py3-none-any.whl.metadata (2.5 kB)\n",
      "Collecting prompt_toolkit<3.1.0,>=3.0.41 (from ipython<10->ipympl->unthermal==0.1.13)\n",
      "Using cached prompt_toolkit-3.0.50-py3-none-any.whl.metadata (6.6 kB)\n",
      "Collecting pygments>=2.4.0 (from ipython<10->ipympl->unthermal==0.1.13)\n",
      "Using cached pygments-2.19.1-py3-none-any.whl.metadata (2.5 kB)\n",
      "Collecting stack_data (from ipython<10->ipympl->unthermal==0.1.13)\n",
      "Using cached stack_data-0.6.3-py3-none-any.whl.metadata (18 kB)\n",
      "Collecting comm>=0.1.3 (from ipywidgets<9,>=7.6.0->ipympl->unthermal==0.1.13)\n",
      "Using cached comm-0.2.2-py3-none-any.whl.metadata (3.7 kB)\n",
      "Collecting widgetsnbextension~=4.0.12 (from ipywidgets<9,>=7.6.0->ipympl->unthermal==0.1.13)\n",
      "Using cached widgetsnbextension-4.0.13-py3-none-any.whl.metadata (1.6 kB)\n",
      "Collecting jupyterlab-widgets~=3.0.12 (from ipywidgets<9,>=7.6.0->ipympl->unthermal==0.1.13)\n",
      "Using cached jupyterlab_widgets-3.0.13-py3-none-any.whl.metadata (4.1 kB)\n",
      "Collecting six>=1.5 (from python-dateutil>=2.7->matplotlib->unthermal==0.1.13)\n",
      "Using cached six-1.17.0-py2.py3-none-any.whl.metadata (1.7 kB)\n",
      "Collecting parso<0.9.0,>=0.8.4 (from jedi>=0.16->ipython<10->ipympl->unthermal==0.1.13)\n",
      "Using cached parso-0.8.4-py2.py3-none-any.whl.metadata (7.7 kB)\n",
      "Collecting ptyprocess>=0.5 (from pexpect>4.3->ipython<10->ipympl->unthermal==0.1.13)\n",
      "Using cached ptyprocess-0.7.0-py2.py3-none-any.whl.metadata (1.3 kB)\n",
      "Collecting wcwidth (from prompt_toolkit<3.1.0,>=3.0.41->ipython<10->ipympl->unthermal==0.1.13)\n",
      "Using cached wcwidth-0.2.13-py2.py3-none-any.whl.metadata (14 kB)\n",
      "Collecting executing>=1.2.0 (from stack_data->ipython<10->ipympl->unthermal==0.1.13)\n",
      "Using cached executing-2.2.0-py2.py3-none-any.whl.metadata (8.9 kB)\n",
      "Collecting asttokens>=2.1.0 (from stack_data->ipython<10->ipympl->unthermal==0.1.13)\n",
      "Using cached asttokens-3.0.0-py3-none-any.whl.metadata (4.7 kB)\n",
      "Collecting pure-eval (from stack_data->ipython<10->ipympl->unthermal==0.1.13)\n",
      "Using cached pure_eval-0.2.3-py3-none-any.whl.metadata (6.3 kB)\n",
      "Using cached control-0.10.1-py3-none-any.whl (549 kB)\n",
      "Using cached matplotlib-3.10.1-cp313-cp313-manylinux_2_17_x86_64.manylinux2014_x86_64.whl (8.6 MB)\n",
      "Using cached numpy-2.2.4-cp313-cp313-manylinux_2_17_x86_64.manylinux2014_x86_64.whl (16.1 MB)\n",
      "Using cached scipy-1.15.2-cp313-cp313-manylinux_2_17_x86_64.manylinux2014_x86_64.whl (37.3 MB)\n",
      "Using cached iottalk_paho_mqtt-1.5.1-py3-none-any.whl (61 kB)\n",
      "Using cached ipympl-0.9.7-py3-none-any.whl (515 kB)\n",
      "Using cached mplcursors-0.6-py3-none-any.whl (20 kB)\n",
      "Using cached contourpy-1.3.1-cp313-cp313-manylinux_2_17_x86_64.manylinux2014_x86_64.whl (322 kB)\n",
      "Using cached cycler-0.12.1-py3-none-any.whl (8.3 kB)\n",
      "Using cached fonttools-4.57.0-cp313-cp313-manylinux_2_5_x86_64.manylinux1_x86_64.manylinux_2_17_x86_64.manylinux2014_x86_64.whl (4.8 MB)\n",
      "Using cached ipython-9.1.0-py3-none-any.whl (604 kB)\n",
      "Using cached ipywidgets-8.1.5-py3-none-any.whl (139 kB)\n",
      "Using cached kiwisolver-1.4.8-cp313-cp313-manylinux_2_17_x86_64.manylinux2014_x86_64.whl (1.5 MB)\n",
      "Using cached packaging-24.2-py3-none-any.whl (65 kB)\n",
      "Using cached pillow-11.1.0-cp313-cp313-manylinux_2_28_x86_64.whl (4.5 MB)\n",
      "Using cached pyparsing-3.2.3-py3-none-any.whl (111 kB)\n",
      "Using cached python_dateutil-2.9.0.post0-py2.py3-none-any.whl (229 kB)\n",
      "Using cached traitlets-5.14.3-py3-none-any.whl (85 kB)\n",
      "Using cached comm-0.2.2-py3-none-any.whl (7.2 kB)\n",
      "Using cached jedi-0.19.2-py2.py3-none-any.whl (1.6 MB)\n",
      "Using cached jupyterlab_widgets-3.0.13-py3-none-any.whl (214 kB)\n",
      "Using cached pexpect-4.9.0-py2.py3-none-any.whl (63 kB)\n",
      "Using cached prompt_toolkit-3.0.50-py3-none-any.whl (387 kB)\n",
      "Using cached pygments-2.19.1-py3-none-any.whl (1.2 MB)\n",
      "Using cached six-1.17.0-py2.py3-none-any.whl (11 kB)\n",
      "Using cached widgetsnbextension-4.0.13-py3-none-any.whl (2.3 MB)\n",
      "Using cached decorator-5.2.1-py3-none-any.whl (9.2 kB)\n",
      "Using cached ipython_pygments_lexers-1.1.1-py3-none-any.whl (8.1 kB)\n",
      "Using cached matplotlib_inline-0.1.7-py3-none-any.whl (9.9 kB)\n",
      "Using cached stack_data-0.6.3-py3-none-any.whl (24 kB)\n",
      "Using cached asttokens-3.0.0-py3-none-any.whl (26 kB)\n",
      "Using cached executing-2.2.0-py2.py3-none-any.whl (26 kB)\n",
      "Using cached parso-0.8.4-py2.py3-none-any.whl (103 kB)\n",
      "Using cached ptyprocess-0.7.0-py2.py3-none-any.whl (13 kB)\n",
      "Using cached pure_eval-0.2.3-py3-none-any.whl (11 kB)\n",
      "Using cached wcwidth-0.2.13-py2.py3-none-any.whl (34 kB)\n",
      "Building wheels for collected packages: unthermal\n",
      "Building wheel for unthermal (pyproject.toml): started\n",
      "Building wheel for unthermal (pyproject.toml): finished with status 'done'\n",
      "Created wheel for unthermal: filename=unthermal-0.1.13-py3-none-any.whl size=32685 sha256=e7661e249ac5607867e495a37f245c24c8ac3d3bee38592ef1e150fb583b6310\n",
      "Stored in directory: /tmp/pip-ephem-wheel-cache-nbs0mtb7/wheels/7c/c6/c4/49345f2a7b8a85335943b4361f1392f202b2f77548882326e6\n",
      "Successfully built unthermal\n",
      "Installing collected packages: wcwidth, pure-eval, ptyprocess, iottalk-paho-mqtt, widgetsnbextension, traitlets, six, pyparsing, pygments, prompt_toolkit, pillow, pexpect, parso, packaging, numpy, kiwisolver, jupyterlab-widgets, fonttools, executing, decorator, cycler, asttokens, stack_data, scipy, python-dateutil, matplotlib-inline, jedi, ipython-pygments-lexers, contourpy, comm, matplotlib, ipython, mplcursors, ipywidgets, control, ipympl, unthermal\n",
      "Successfully installed asttokens-3.0.0 comm-0.2.2 contourpy-1.3.1 control-0.10.1 cycler-0.12.1 decorator-5.2.1 executing-2.2.0 fonttools-4.57.0 iottalk-paho-mqtt-1.5.1 ipympl-0.9.7 ipython-9.1.0 ipython-pygments-lexers-1.1.1 ipywidgets-8.1.5 jedi-0.19.2 jupyterlab-widgets-3.0.13 kiwisolver-1.4.8 matplotlib-3.10.1 matplotlib-inline-0.1.7 mplcursors-0.6 numpy-2.2.4 packaging-24.2 parso-0.8.4 pexpect-4.9.0 pillow-11.1.0 prompt_toolkit-3.0.50 ptyprocess-0.7.0 pure-eval-0.2.3 pygments-2.19.1 pyparsing-3.2.3 python-dateutil-2.9.0.post0 scipy-1.15.2 six-1.17.0 stack_data-0.6.3 traitlets-5.14.3 unthermal-0.1.13 wcwidth-0.2.13 widgetsnbextension-4.0.13\n",
      "Collecting git+https://github.com/nebisman/UNDCMotor.git@main#subdirectory=code/python_code\n",
      "Cloning https://github.com/nebisman/UNDCMotor.git (to revision main) to /tmp/pip-req-build-vvbbpja9\n",
      "Running command git clone --filter=blob:none --quiet https://github.com/nebisman/UNDCMotor.git /tmp/pip-req-build-vvbbpja9\n",
      "Resolved https://github.com/nebisman/UNDCMotor.git to commit be8b2b1781edb71b5fb7ff2f701b6edbee4e4459\n",
      "Installing build dependencies: started\n",
      "Installing build dependencies: finished with status 'done'\n",
      "Getting requirements to build wheel: started\n",
      "Getting requirements to build wheel: finished with status 'done'\n",
      "Preparing metadata (pyproject.toml): started\n",
      "Preparing metadata (pyproject.toml): finished with status 'done'\n",
      "Collecting iottalk-paho-mqtt (from unmotor==0.1.13)\n",
      "Using cached iottalk_paho_mqtt-1.5.1-py3-none-any.whl.metadata (46 kB)\n",
      "Collecting control (from unmotor==0.1.13)\n",
      "Using cached control-0.10.1-py3-none-any.whl.metadata (7.6 kB)\n",
      "Collecting numpy (from unmotor==0.1.13)\n",
      "Using cached numpy-2.2.4-cp313-cp313-manylinux_2_17_x86_64.manylinux2014_x86_64.whl.metadata (62 kB)\n",
      "Collecting matplotlib (from unmotor==0.1.13)\n",
      "Using cached matplotlib-3.10.1-cp313-cp313-manylinux_2_17_x86_64.manylinux2014_x86_64.whl.metadata (11 kB)\n",
      "Collecting scipy (from unmotor==0.1.13)\n",
      "Using cached scipy-1.15.2-cp313-cp313-manylinux_2_17_x86_64.manylinux2014_x86_64.whl.metadata (61 kB)\n",
      "Collecting ipympl (from unmotor==0.1.13)\n",
      "Using cached ipympl-0.9.7-py3-none-any.whl.metadata (8.7 kB)\n",
      "Collecting mplcursors (from unmotor==0.1.13)\n",
      "Using cached mplcursors-0.6-py3-none-any.whl.metadata (3.0 kB)\n",
      "Collecting contourpy>=1.0.1 (from matplotlib->unmotor==0.1.13)\n",
      "Using cached contourpy-1.3.1-cp313-cp313-manylinux_2_17_x86_64.manylinux2014_x86_64.whl.metadata (5.4 kB)\n",
      "Collecting cycler>=0.10 (from matplotlib->unmotor==0.1.13)\n",
      "Using cached cycler-0.12.1-py3-none-any.whl.metadata (3.8 kB)\n",
      "Collecting fonttools>=4.22.0 (from matplotlib->unmotor==0.1.13)\n",
      "Using cached fonttools-4.57.0-cp313-cp313-manylinux_2_5_x86_64.manylinux1_x86_64.manylinux_2_17_x86_64.manylinux2014_x86_64.whl.metadata (102 kB)\n",
      "Collecting kiwisolver>=1.3.1 (from matplotlib->unmotor==0.1.13)\n",
      "Using cached kiwisolver-1.4.8-cp313-cp313-manylinux_2_17_x86_64.manylinux2014_x86_64.whl.metadata (6.2 kB)\n",
      "Collecting packaging>=20.0 (from matplotlib->unmotor==0.1.13)\n",
      "Using cached packaging-24.2-py3-none-any.whl.metadata (3.2 kB)\n",
      "Collecting pillow>=8 (from matplotlib->unmotor==0.1.13)\n",
      "Using cached pillow-11.1.0-cp313-cp313-manylinux_2_28_x86_64.whl.metadata (9.1 kB)\n",
      "Collecting pyparsing>=2.3.1 (from matplotlib->unmotor==0.1.13)\n",
      "Using cached pyparsing-3.2.3-py3-none-any.whl.metadata (5.0 kB)\n",
      "Collecting python-dateutil>=2.7 (from matplotlib->unmotor==0.1.13)\n",
      "Using cached python_dateutil-2.9.0.post0-py2.py3-none-any.whl.metadata (8.4 kB)\n",
      "Collecting ipython<10 (from ipympl->unmotor==0.1.13)\n",
      "Using cached ipython-9.1.0-py3-none-any.whl.metadata (4.4 kB)\n",
      "Collecting ipywidgets<9,>=7.6.0 (from ipympl->unmotor==0.1.13)\n",
      "Using cached ipywidgets-8.1.5-py3-none-any.whl.metadata (2.3 kB)\n",
      "Collecting traitlets<6 (from ipympl->unmotor==0.1.13)\n",
      "Using cached traitlets-5.14.3-py3-none-any.whl.metadata (10 kB)\n",
      "Collecting decorator (from ipython<10->ipympl->unmotor==0.1.13)\n",
      "Using cached decorator-5.2.1-py3-none-any.whl.metadata (3.9 kB)\n",
      "Collecting ipython-pygments-lexers (from ipython<10->ipympl->unmotor==0.1.13)\n",
      "Using cached ipython_pygments_lexers-1.1.1-py3-none-any.whl.metadata (1.1 kB)\n",
      "Collecting jedi>=0.16 (from ipython<10->ipympl->unmotor==0.1.13)\n",
      "Using cached jedi-0.19.2-py2.py3-none-any.whl.metadata (22 kB)\n",
      "Collecting matplotlib-inline (from ipython<10->ipympl->unmotor==0.1.13)\n",
      "Using cached matplotlib_inline-0.1.7-py3-none-any.whl.metadata (3.9 kB)\n",
      "Collecting pexpect>4.3 (from ipython<10->ipympl->unmotor==0.1.13)\n",
      "Using cached pexpect-4.9.0-py2.py3-none-any.whl.metadata (2.5 kB)\n",
      "Collecting prompt_toolkit<3.1.0,>=3.0.41 (from ipython<10->ipympl->unmotor==0.1.13)\n",
      "Using cached prompt_toolkit-3.0.50-py3-none-any.whl.metadata (6.6 kB)\n",
      "Collecting pygments>=2.4.0 (from ipython<10->ipympl->unmotor==0.1.13)\n",
      "Using cached pygments-2.19.1-py3-none-any.whl.metadata (2.5 kB)\n",
      "Collecting stack_data (from ipython<10->ipympl->unmotor==0.1.13)\n",
      "Using cached stack_data-0.6.3-py3-none-any.whl.metadata (18 kB)\n",
      "Collecting comm>=0.1.3 (from ipywidgets<9,>=7.6.0->ipympl->unmotor==0.1.13)\n",
      "Using cached comm-0.2.2-py3-none-any.whl.metadata (3.7 kB)\n",
      "Collecting widgetsnbextension~=4.0.12 (from ipywidgets<9,>=7.6.0->ipympl->unmotor==0.1.13)\n",
      "Using cached widgetsnbextension-4.0.13-py3-none-any.whl.metadata (1.6 kB)\n",
      "Collecting jupyterlab-widgets~=3.0.12 (from ipywidgets<9,>=7.6.0->ipympl->unmotor==0.1.13)\n",
      "Using cached jupyterlab_widgets-3.0.13-py3-none-any.whl.metadata (4.1 kB)\n",
      "Collecting six>=1.5 (from python-dateutil>=2.7->matplotlib->unmotor==0.1.13)\n",
      "Using cached six-1.17.0-py2.py3-none-any.whl.metadata (1.7 kB)\n",
      "Collecting parso<0.9.0,>=0.8.4 (from jedi>=0.16->ipython<10->ipympl->unmotor==0.1.13)\n",
      "Using cached parso-0.8.4-py2.py3-none-any.whl.metadata (7.7 kB)\n",
      "Collecting ptyprocess>=0.5 (from pexpect>4.3->ipython<10->ipympl->unmotor==0.1.13)\n",
      "Using cached ptyprocess-0.7.0-py2.py3-none-any.whl.metadata (1.3 kB)\n",
      "Collecting wcwidth (from prompt_toolkit<3.1.0,>=3.0.41->ipython<10->ipympl->unmotor==0.1.13)\n",
      "Using cached wcwidth-0.2.13-py2.py3-none-any.whl.metadata (14 kB)\n",
      "Collecting executing>=1.2.0 (from stack_data->ipython<10->ipympl->unmotor==0.1.13)\n",
      "Using cached executing-2.2.0-py2.py3-none-any.whl.metadata (8.9 kB)\n",
      "Collecting asttokens>=2.1.0 (from stack_data->ipython<10->ipympl->unmotor==0.1.13)\n",
      "Using cached asttokens-3.0.0-py3-none-any.whl.metadata (4.7 kB)\n",
      "Collecting pure-eval (from stack_data->ipython<10->ipympl->unmotor==0.1.13)\n",
      "Using cached pure_eval-0.2.3-py3-none-any.whl.metadata (6.3 kB)\n",
      "Using cached control-0.10.1-py3-none-any.whl (549 kB)\n",
      "Using cached matplotlib-3.10.1-cp313-cp313-manylinux_2_17_x86_64.manylinux2014_x86_64.whl (8.6 MB)\n",
      "Using cached numpy-2.2.4-cp313-cp313-manylinux_2_17_x86_64.manylinux2014_x86_64.whl (16.1 MB)\n",
      "Using cached scipy-1.15.2-cp313-cp313-manylinux_2_17_x86_64.manylinux2014_x86_64.whl (37.3 MB)\n",
      "Using cached iottalk_paho_mqtt-1.5.1-py3-none-any.whl (61 kB)\n",
      "Using cached ipympl-0.9.7-py3-none-any.whl (515 kB)\n",
      "Using cached mplcursors-0.6-py3-none-any.whl (20 kB)\n",
      "Using cached contourpy-1.3.1-cp313-cp313-manylinux_2_17_x86_64.manylinux2014_x86_64.whl (322 kB)\n",
      "Using cached cycler-0.12.1-py3-none-any.whl (8.3 kB)\n",
      "Using cached fonttools-4.57.0-cp313-cp313-manylinux_2_5_x86_64.manylinux1_x86_64.manylinux_2_17_x86_64.manylinux2014_x86_64.whl (4.8 MB)\n",
      "Using cached ipython-9.1.0-py3-none-any.whl (604 kB)\n",
      "Using cached ipywidgets-8.1.5-py3-none-any.whl (139 kB)\n",
      "Using cached kiwisolver-1.4.8-cp313-cp313-manylinux_2_17_x86_64.manylinux2014_x86_64.whl (1.5 MB)\n",
      "Using cached packaging-24.2-py3-none-any.whl (65 kB)\n",
      "Using cached pillow-11.1.0-cp313-cp313-manylinux_2_28_x86_64.whl (4.5 MB)\n",
      "Using cached pyparsing-3.2.3-py3-none-any.whl (111 kB)\n",
      "Using cached python_dateutil-2.9.0.post0-py2.py3-none-any.whl (229 kB)\n",
      "Using cached traitlets-5.14.3-py3-none-any.whl (85 kB)\n",
      "Using cached comm-0.2.2-py3-none-any.whl (7.2 kB)\n",
      "Using cached jedi-0.19.2-py2.py3-none-any.whl (1.6 MB)\n",
      "Using cached jupyterlab_widgets-3.0.13-py3-none-any.whl (214 kB)\n",
      "Using cached pexpect-4.9.0-py2.py3-none-any.whl (63 kB)\n",
      "Using cached prompt_toolkit-3.0.50-py3-none-any.whl (387 kB)\n",
      "Using cached pygments-2.19.1-py3-none-any.whl (1.2 MB)\n",
      "Using cached six-1.17.0-py2.py3-none-any.whl (11 kB)\n",
      "Using cached widgetsnbextension-4.0.13-py3-none-any.whl (2.3 MB)\n",
      "Using cached decorator-5.2.1-py3-none-any.whl (9.2 kB)\n",
      "Using cached ipython_pygments_lexers-1.1.1-py3-none-any.whl (8.1 kB)\n",
      "Using cached matplotlib_inline-0.1.7-py3-none-any.whl (9.9 kB)\n",
      "Using cached stack_data-0.6.3-py3-none-any.whl (24 kB)\n",
      "Using cached asttokens-3.0.0-py3-none-any.whl (26 kB)\n",
      "Using cached executing-2.2.0-py2.py3-none-any.whl (26 kB)\n",
      "Using cached parso-0.8.4-py2.py3-none-any.whl (103 kB)\n",
      "Using cached ptyprocess-0.7.0-py2.py3-none-any.whl (13 kB)\n",
      "Using cached pure_eval-0.2.3-py3-none-any.whl (11 kB)\n",
      "Using cached wcwidth-0.2.13-py2.py3-none-any.whl (34 kB)\n",
      "Building wheels for collected packages: unmotor\n",
      "Building wheel for unmotor (pyproject.toml): started\n",
      "Building wheel for unmotor (pyproject.toml): finished with status 'done'\n",
      "Created wheel for unmotor: filename=unmotor-0.1.13-py3-none-any.whl size=42826 sha256=d1a72816641305652c27dd70360550b21eb19719257973649638276565e98966\n",
      "Stored in directory: /tmp/pip-ephem-wheel-cache-jymirva7/wheels/8f/4a/0a/9f2a36c6024aaf5085976119a74f9fda754a6acb50987dbcad\n",
      "Successfully built unmotor\n",
      "Installing collected packages: wcwidth, pure-eval, ptyprocess, iottalk-paho-mqtt, widgetsnbextension, traitlets, six, pyparsing, pygments, prompt_toolkit, pillow, pexpect, parso, packaging, numpy, kiwisolver, jupyterlab-widgets, fonttools, executing, decorator, cycler, asttokens, stack_data, scipy, python-dateutil, matplotlib-inline, jedi, ipython-pygments-lexers, contourpy, comm, matplotlib, ipython, mplcursors, ipywidgets, control, ipympl, unmotor\n",
      "Successfully installed asttokens-3.0.0 comm-0.2.2 contourpy-1.3.1 control-0.10.1 cycler-0.12.1 decorator-5.2.1 executing-2.2.0 fonttools-4.57.0 iottalk-paho-mqtt-1.5.1 ipympl-0.9.7 ipython-9.1.0 ipython-pygments-lexers-1.1.1 ipywidgets-8.1.5 jedi-0.19.2 jupyterlab-widgets-3.0.13 kiwisolver-1.4.8 matplotlib-3.10.1 matplotlib-inline-0.1.7 mplcursors-0.6 numpy-2.2.4 packaging-24.2 parso-0.8.4 pexpect-4.9.0 pillow-11.1.0 prompt_toolkit-3.0.50 ptyprocess-0.7.0 pure-eval-0.2.3 pygments-2.19.1 pyparsing-3.2.3 python-dateutil-2.9.0.post0 scipy-1.15.2 six-1.17.0 stack_data-0.6.3 traitlets-5.14.3 unmotor-0.1.13 wcwidth-0.2.13 widgetsnbextension-4.0.13\n"
     ]
    }
   ],
   "source": [
    "import subprocess\n",
    "command = [\"pip\", \"install\", \"-I\", \"git+https://github.com/nebisman/UNThermal.git@main#subdirectory=code/python_code\"]\n",
    "process = subprocess.Popen(command, stdout=subprocess.PIPE, stderr=subprocess.STDOUT, text=True)\n",
    "for line in process.stdout:\n",
    "    print(line.strip())\n",
    "\n",
    "command = [\"pip\", \"install\", \"-I\", \"git+https://github.com/nebisman/UNDCMotor.git@main#subdirectory=code/python_code\"]\n",
    "process = subprocess.Popen(command, stdout=subprocess.PIPE, stderr=subprocess.STDOUT, text=True)\n",
    "for line in process.stdout:\n",
    "    print(line.strip())"
   ]
  },
  {
   "cell_type": "markdown",
   "id": "3af7a528-4000-4979-9288-154c34036842",
   "metadata": {
    "editable": true,
    "slideshow": {
     "slide_type": ""
    },
    "tags": []
   },
   "source": [
    "\n",
    "### Importación de comandos de la libreria unthermal y unmotor\n",
    "\n",
    "A continuación importamos los comandos básicos que usaremos de la libreria `unthermal` y la libreria `Matplotlib` para las figuras."
   ]
  },
  {
   "cell_type": "code",
   "execution_count": 2,
   "id": "initial_id",
   "metadata": {
    "ExecuteTime": {
     "end_time": "2024-10-18T00:15:28.976393Z",
     "start_time": "2024-10-18T00:15:27.343292Z"
    },
    "editable": true,
    "scrolled": true,
    "slideshow": {
     "slide_type": ""
    },
    "tags": []
   },
   "outputs": [],
   "source": [
    "%matplotlib widget\n",
    "import matplotlib.pyplot as plt\n",
    "import numpy as np\n",
    "import unthermal as temp\n",
    "import unmotor as motor"
   ]
  },
  {
   "cell_type": "markdown",
   "id": "be12da5c-147a-46e1-ae29-afe3673bb21b",
   "metadata": {},
   "source": [
    "\n",
    "### Definición de los sistemas en el IoT\n",
    "\n",
    "Lo primero que necesitamos es definir tanto el sistema térmico como el motor en el IoT"
   ]
  },
  {
   "cell_type": "code",
   "execution_count": 3,
   "id": "aca6686d-6399-4c3a-b8eb-2b78ca05442b",
   "metadata": {
    "ExecuteTime": {
     "end_time": "2024-10-20T20:36:13.420801Z",
     "start_time": "2024-10-20T20:36:13.414544Z"
    },
    "editable": true,
    "slideshow": {
     "slide_type": ""
    },
    "tags": []
   },
   "outputs": [
    {
     "name": "stdout",
     "output_type": "stream",
     "text": [
      "<TransferFunction>: sys[5]\n",
      "Inputs (1): ['u[0]']\n",
      "Outputs (1): ['y[0]']\n",
      "\n",
      "\n",
      "  1.048\n",
      "----------\n",
      "32.2 s + 1\n",
      "\n"
     ]
    }
   ],
   "source": [
    "mi_termico = temp.ThermalSystemIoT(plant_number = \"PC-T-10\" , broker_address = \"192.168.0.14\", port=1883)\n",
    "\n",
    "\n",
    "print(mi_termico.transfer_function())"
   ]
  },
  {
   "cell_type": "markdown",
   "id": "4bf56a3a",
   "metadata": {},
   "source": [
    "## Sintonia de controladores PI con base en el modelo FOTD\n",
    "\n",
    "---\n",
    "### Breve teoría -- control PID\n",
    "\n",
    "Uno de los algoritmos de control más usuales es el control **PID** en el cual la señal de control aplicada es proporcional al error, a su integral y a su derivada, según la expresión:\n",
    "\\begin{align*}\n",
    "u(t) &= P + I + D\\\\\n",
    "u(t) &= k_p\\,e(t) + k_i\\,\\int_0^t{e(\\lambda)\\,d\\lambda} + k_d\\, \\dfrac{de(t)}{dt}\n",
    "\\end{align*}\n",
    "\n",
    "La estructura del controlador se muestra en la figura siguiente:\n",
    "\n",
    "<img src=\"https://github.com/nebisman/UNThermal/blob/main/code/python_code/notebooks_lab_2024_2/pid1gdl.png?raw=true\" alt=\"PID\" width=\"500\"/>\n",
    "\n",
    "\n",
    "\n",
    "  \n",
    "### Sintonía según el método de Ziegler-Nichols por respuesta al escalón\n",
    "\n",
    "El método más antiguo para *sintonizar* un PID, es decir, de ajustar las constantes de un controlador PID es el método de la respuesta al escalón de **Ziegler y Nichols (1948)**. Según este método, para un controlador unicamente proporcional (P) o uno proporcional e integral (PI), las constantes $k_p$ y $k_i$ se ajustan, respectivamente, de acuerdo con la tabla siguiente.\n",
    "\n",
    "\n",
    "| **Tipo de Controlador** | **Ganancia Proporcional** $k_p$                | **Ganancia Integral** $k_i$                | \n",
    "|-------------------------|------------------------------------------------|--------------------------------------------|\n",
    "| **P** solo proporcional                    | $\\dfrac{\\tau}{\\alpha L}$                 | $0$                                  | \n",
    "| **PI** proporcional e integral                  | $0.9 \\times \\dfrac{\\tau}{\\alpha L}$      | $ \\dfrac{0.3 \\, \\tau}{\\alpha \\, L^2}$ |\n",
    "\n",
    "\n",
    "Note que los parámetros del controlador se expresan en términos de las constantes $\\alpha$, $\\tau$ y $L$ obtenidas experimentalmente a partir de un modelo **FOTD** como el de la práctica anterior, es decir, por medio de las constantes del siguiente modelo:\n",
    "\n",
    "$$G(s)=\\frac{\\alpha}{\\tau\\,s+1} e^{-L\\,s}$$\n",
    "\n",
    "Cuya respuesta se ilustra en la figura siguiente: \n",
    "\n",
    "<img src=\"https://github.com/nebisman/UNThermal/blob/main/docs/primer_orden_delay.png?raw=true\" alt=\"Gráfica de resultados\" width=\"500\"/>\n",
    "\n",
    "\n",
    "\n",
    "\n",
    "\n",
    "\n",
    "\n",
    "\n",
    "\n",
    "\n",
    "\n",
    "Una descripción completa la encuentra en el capítulo 6 del libro de **Control PID Avanzado** de la bibliografía. En [este fragmento](https://drive.google.com/file/d/1QwG9kX1Oqav6lfPNQsxBqlAMWaGTstdD/view?usp=sharing) se presenta especifícamente el método de Ziegler y Nichols.  \n",
    "\n",
    "\n",
    "A continuación vamos a ver la respuesta en lazo cerrado del sistema térmico con un controlador PI, siguiendo el método de Ziegler-Nichols.\n",
    "\n",
    "\n"
   ]
  },
  {
   "cell_type": "code",
   "execution_count": 4,
   "id": "c5b26754",
   "metadata": {},
   "outputs": [
    {
     "name": "stdout",
     "output_type": "stream",
     "text": [
      "Successfully connected to MQTT Broker 192.168.0.14\n",
      "Command send:  1\n",
      "PID parameters changed\n",
      "Successfully connected to MQTT Broker 192.168.0.14\n",
      "Subscribed:  2   (2,)\n",
      "Command send:  3\n"
     ]
    },
    {
     "data": {
      "application/vnd.jupyter.widget-view+json": {
       "model_id": "a975fd1ce9ff4fcca7c0350ee94719eb",
       "version_major": 2,
       "version_minor": 0
      },
      "image/png": "[encoded data removed]",
      "text/html": [
       "\n",
       "            <div style=\"display: inline-block;\">\n",
       "                <div class=\"jupyter-widgets widget-label\" style=\"text-align: center;\">\n",
       "                    Figure\n",
       "                </div>\n",
       "                <img src='data:image/png;base64,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' width=1000.0/>\n",
       "            </div>\n",
       "        "
      ],
      "text/plain": [
       "Canvas(toolbar=Toolbar(toolitems=[('Home', 'Reset original view', 'home', 'home'), ('Back', 'Back to previous …"
      ]
     },
     "metadata": {},
     "output_type": "display_data"
    }
   ],
   "source": [
    "# Reglas de Ziegler - Nichols para un controlador PI\n",
    "\n",
    "# estos son los parámetros del modelo que obtuvimos en nuestro experimento\n",
    "alfa = 1.36\n",
    "tau = 35.89\n",
    "L = 0.54\n",
    "\n",
    "# Calculamos las constantes según el método de Ziegler-Nichols\n",
    "\n",
    "kp_zn = 0.9*tau / (alfa * L)  # constante proporcional\n",
    "ki_zn = 0.3*tau / (alfa * L**2) # constante integral \n",
    "\n",
    "# programamos los parámetros del PID con el siguiente comando\n",
    "temp.set_pid(mi_termico,kp=kp_zn, ki=ki_zn, kd=0, beta=1)\n",
    "\n",
    "# Ahora obtenemos la respuesta al escalón \n",
    "\n",
    "r0 = 50 # valor inicial del escalón de referencia antes del cambio (grados celsius)\n",
    "t0 = 60 # tiempo que dura en el valor inicial\n",
    "\n",
    "r1 = 60 # valor final del escalón de referencia  (grados celsius)\n",
    "t1 = 60 # tiempo que demora en el valor final\n",
    "\n",
    "# con este comando obtenemos la respuesta al escalón\n",
    "t_zn, r_zn, y_zn, u_zn = temp.step_closed(mi_termico,r0=r0, r1=r1, t0=t0, t1=t1)"
   ]
  },
  {
   "cell_type": "markdown",
   "id": "d8acf27e",
   "metadata": {},
   "source": [
    "### Otros métodos de sintonía \n",
    "\n",
    "Existen una infinidad de métodos de sintonía. Con base en propuesta de Ziegler y Nichols han seguido apareciendo nuevas propuestas de sintonía que preservan la filosofía del método original en cuanto a su simplicidad. La tabla siguiente contiene algunos métodos de sintonización reportados en la literatura para controladores PI.\n",
    "\n",
    "| **Propuesto por** | **Ganancia Proporcional** $k_p$                | **Ganancia Integral** $k_i$                | \n",
    "|-------------------------|------------------------------------------------|--------------------------------------------|\n",
    "| **Skogestad (2003)**           |   $\\dfrac{0.5\\,\\tau}{\\alpha\\,L}$   | $\\dfrac{k_p}{\\min(\\tau, 8\\,L)}$ |\n",
    "| **Zhang  (1994)**           |   $\\dfrac{\\tau}{\\alpha\\,L}$  | $\\dfrac{k_p}{\\tau}$|\n",
    "|**Åström and Hägglund (2006)**                | $\\dfrac{0.15}{\\alpha} + \\left(0.35 - \\dfrac{L \\cdot \\tau}{(L + \\tau)^2}\\right) \\dfrac{\\tau}{\\alpha \\cdot L} $               |  $\\dfrac{k_p}{0.35 \\cdot L + \\frac{13 \\cdot L \\cdot \\tau^2}{\\tau^2 + 12 \\cdot L \\cdot \\tau + 7 \\cdot L^2}}$   "
   ]
  },
  {
   "cell_type": "markdown",
   "metadata": {},
   "source": [
    "### Trabajo experimental con el sistema térmico\n",
    "\n",
    "Realice los siguientes experimentos con un escalón que cambia desde `r0=50` a `r1=60`.  Para cada uno de los 3 experimentos use nombres diferentes en las variables de salida para poder graficar conjuntamente cada experimento. Por ejemplo, para el experimento 1 puede usar:\n",
    "\n",
    "`t_sk, r_sk, y_sk, u_sk = temp.step_closed(mi_termico,r0=r0, r1=r1, t0=t0, t1=t1)`\n",
    "\n",
    "\n",
    "1. Sintonice un controlador PI por el método de Skogestad y obtenga la respuesta al escalón en lazo cerrado.\n",
    " con un escalón que cambia desde `r0=50` a `r1=60`.\n",
    "\n",
    "1. Sintonice un controlador PI por el método de Taguchi y Araki y obtenga la respuesta al escalón en lazo.\n",
    "\n",
    "1. Sintonice un controlador PI por el método de Åström and Hägglund y obtenga la respuesta al escalón en lazo cerrado."
   ]
  },
  {
   "cell_type": "markdown",
   "id": "868663cb",
   "metadata": {},
   "source": [
    "#### Preguntas orientadoras\n",
    "\n",
    "+ Grafique en la misma figura las respuestas al escalón en lazo cerrado de los 4 experimentos anteriores (incluido el de Ziegler-Nichols) \n",
    "\n",
    "+ Con base en la grafica de la pregunta anterior, evalue los 4 métodos de sintonia, dando una puntuación de 1 a 10 a cada uno. Explique esta puntuación.\n",
    "\n",
    "+ ¿Según el experimento, podemos afirmar que el método de Ziegler-Nichols es robusto?"
   ]
  },
  {
   "cell_type": "markdown",
   "id": "08aa8ab8",
   "metadata": {},
   "source": [
    "### ¿Por qué usar acción integral?\n",
    "\n",
    "Una de las acciones fundamentales de control es la acción integral $I = k_i \\int_0^t e(\\lambda)d\\lambda$. Vamos a realizar el siguiente experimento, para observar el papel de la acción integral."
   ]
  },
  {
   "cell_type": "code",
   "execution_count": null,
   "id": "cb997e76",
   "metadata": {},
   "outputs": [],
   "source": [
    "# reglas de Astrom para PI - sistema termico\n",
    "print(alfa,tau,L)\n",
    "kp = 0.15/alfa + (0.35 - L*tau/(L+tau)**2)*tau/(alfa*L) \n",
    "ki = kp /(0.35*L + 13*L*tau**2/(tau**2+12*L*tau + 7*L**2))\n",
    "print(kp,ki)\n",
    "temp.set_pid(mi_termico,kp=15,ki=0,kd=0,beta=1)\n",
    "t_as, r_as, y_as, u_as = temp.step_closed(mi_termico,r0=40,r1=50,t0=60,t1=60)"
   ]
  },
  {
   "cell_type": "markdown",
   "id": "0d0062e2",
   "metadata": {},
   "source": [
    "## Modelo FOTD según la literatura\n",
    "\n",
    "\n",
    "$G(s) = \\frac{K_m}{T_m\\, s+1}e^{-s\\tau_m}$ "
   ]
  },
  {
   "cell_type": "code",
   "execution_count": null,
   "id": "6d4f19ce",
   "metadata": {},
   "outputs": [],
   "source": [
    "# reglas de Skogestad para PI - sistema termico\n",
    "print(alfa,tau,L)\n",
    "kp = 0.5*tau/(alfa * L)\n",
    "ki = np.min([tau ,8*L])\n",
    "print(kp,ki)\n",
    "temp.set_pid(mi_termico,kp=kp,ki=ki,kd=0,beta=0)\n",
    "t_sk, r_sk, y_sk, u_sk = temp.step_closed(mi_termico,r0=50,r1=60,t0=60,t1=60)"
   ]
  },
  {
   "cell_type": "code",
   "execution_count": null,
   "id": "55353665",
   "metadata": {},
   "outputs": [],
   "source": [
    "plt.figure()\n",
    "plt.plot( t_as,r_as,t_zn, y_zn, t_as, y_as, t_sk, y_sk)\n",
    "plt.xlim([0, t0+t1])\n",
    "plt.grid(True)\n",
    "plt.legend([ \"Reference\",\"Ziegler-Nichols\", \"Astrom\"])\n",
    "plt.show()"
   ]
  },
  {
   "cell_type": "code",
   "execution_count": null,
   "id": "acd3d04e",
   "metadata": {},
   "outputs": [],
   "source": [
    "# reglas de Skogestad para PI - sistema termico\n",
    "print(alfa,tau,L)\n",
    "kp = 0.5*tau/(alfa * L)\n",
    "ki = np.min([tau ,8*L])\n",
    "print(kp,ki)\n",
    "temp.set_pid(mi_termico,kp=kp,ki=ki,kd=0,beta=1)\n",
    "t, r, y, u = temp.step_closed(mi_termico,r0=60,r1=70,t0=60,t1=60)"
   ]
  },
  {
   "cell_type": "code",
   "execution_count": null,
   "id": "0930c0b7",
   "metadata": {},
   "outputs": [],
   "source": [
    "# Taguchi et Araki (2000) - sistema termico intermedio\n",
    "L=0.02\n",
    "alfa = 300\n",
    "tau= 0.13\n",
    "kp = (0.1787 + 0.2839/(L/tau + 0.001723)) / alfa \n",
    "ki = kp/(4.296+ 3.794 *L/tau + 0.2591 * (L/tau)**2) \n",
    "print(kp,ki)\n",
    "temp.set_pid(mi_termico,kp=kp,ki=ki,kd=0,beta=0)\n",
    "t, r, y, u = temp.step_closed(mi_termico,r0=60,r1=70,t0=60,t1=60)\n"
   ]
  },
  {
   "cell_type": "code",
   "execution_count": null,
   "id": "063ff053",
   "metadata": {},
   "outputs": [],
   "source": []
  },
  {
   "cell_type": "markdown",
   "id": "4f372703",
   "metadata": {},
   "source": []
  },
  {
   "cell_type": "code",
   "execution_count": null,
   "id": "400d06c4",
   "metadata": {},
   "outputs": [],
   "source": [
    "## Modelo del motor\n",
    "\n",
    "alfa, tau, L = motor.get_fomodel_step(mi_motor, yop = 360)"
   ]
  },
  {
   "cell_type": "code",
   "execution_count": null,
   "id": "2fbf59c1",
   "metadata": {},
   "outputs": [],
   "source": [
    "# Reglas de Ziegler Nichols para el motor\n",
    "print(alfa,tau,L)\n",
    "kp = tau/(alfa*L)\n",
    "ki = tau\n",
    "print(kp,ki)\n",
    "motor.set_pid(mi_motor,kp=kp,ki=ki,kd=0,beta=0, output=\"speed\")\n",
    "motor.step_closed(mi_motor,r0=0, r1=360, t0=1, t1=2);"
   ]
  },
  {
   "cell_type": "code",
   "execution_count": null,
   "id": "10335858",
   "metadata": {},
   "outputs": [],
   "source": []
  },
  {
   "cell_type": "code",
   "execution_count": null,
   "id": "5ec60903",
   "metadata": {},
   "outputs": [],
   "source": [
    "#reglas de astrom para el motor\n",
    "print(alfa,tau,L)\n",
    "kp =0.0051\n",
    "ki=0\n",
    "print(kp,ki)\n",
    "motor.set_pid(mi_motor,kp=kp,ki=ki,kd=0,beta=1, output=\"speed\")\n",
    "motor.step_closed(mi_motor,r0=0, r1=360, t0=1, t1=2);"
   ]
  },
  {
   "cell_type": "code",
   "execution_count": null,
   "id": "645494d7",
   "metadata": {},
   "outputs": [],
   "source": [
    "\n",
    "# reglas de Skogestad para PI - motor\n",
    "print(alfa,tau,L)\n",
    "kp = 0.5*tau/(alfa * L)\n",
    "ki = kp/np.min([tau ,8*L])\n",
    "print(kp,ki)\n",
    "motor.set_pid(mi_motor,kp=kp,ki=ki,kd=0,beta=1, output=\"speed\")\n",
    "motor.step_closed(mi_motor,r0=0, r1=360, t0=1, t1=2);"
   ]
  },
  {
   "cell_type": "code",
   "execution_count": 43,
   "id": "4aa3ee75",
   "metadata": {},
   "outputs": [
    {
     "data": {
      "image/png": "[encoded data removed]",
      "text/plain": [
       "<Figure size 640x480 with 1 Axes>"
      ]
     },
     "metadata": {},
     "output_type": "display_data"
    }
   ],
   "source": [
    "import numpy as np\n",
    "import matplotlib.pyplot as plt\n",
    "\n",
    "\n",
    "\n",
    "z = np.linspace(0,0.999,200)\n",
    "SP = 100* np.exp((-np.pi*z/np.sqrt(1-z**2)))\n",
    "plt.figure()\n",
    "plt.plot(z,SP, color=\"#0044aa\")\n",
    "plt.xlim([0,1])\n",
    "plt.ylim([0,100])\n",
    "plt.grid(True)\n",
    "plt.xlabel(r\"$\\zeta$\", fontsize=18)\n",
    "plt.ylabel(r\"$SP \\,(\\%)$\", fontsize=16)\n",
    "plt.savefig(\"sobrepico.pdf\", format=\"pdf\", bbox_inches=\"tight\") # la figura se guarda en el archivo que ud desee\n",
    "\n",
    "plt.show()"
   ]
  }
 ],
 "metadata": {
  "kernelspec": {
   "display_name": ".venv",
   "language": "python",
   "name": "python3"
  },
  "language_info": {
   "codemirror_mode": {
    "name": "ipython",
    "version": 3
   },
   "file_extension": ".py",
   "mimetype": "text/x-python",
   "name": "python",
   "nbconvert_exporter": "python",
   "pygments_lexer": "ipython3",
   "version": "3.12.3"
  },
  "widgets": {
   "application/vnd.jupyter.widget-state+json": {
    "state": {},
    "version_major": 2,
    "version_minor": 0
   }
  }
 },
 "nbformat": 4,
 "nbformat_minor": 5
}
